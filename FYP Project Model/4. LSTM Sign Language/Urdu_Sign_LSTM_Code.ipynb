{
 "cells": [
  {
   "cell_type": "code",
   "execution_count": null,
   "id": "2fdd8b6e-63ef-4f09-8fd9-82b3d743d8c4",
   "metadata": {},
   "outputs": [],
   "source": [
    "# kernel : mykernel"
   ]
  },
  {
   "cell_type": "code",
   "execution_count": 6,
   "id": "0bd87993-6703-4c10-b093-eb7fc129b863",
   "metadata": {},
   "outputs": [],
   "source": [
    "# 1. Install Dependencies"
   ]
  },
  {
   "cell_type": "code",
   "execution_count": 2,
   "id": "8202c82e-5955-47c6-8c5b-eeeb83374e0b",
   "metadata": {},
   "outputs": [
    {
     "name": "stdout",
     "output_type": "stream",
     "text": [
      "Collecting tensorflow==2.4.1\n",
      "  Using cached tensorflow-2.4.1-cp38-cp38-macosx_10_11_x86_64.whl (173.9 MB)\n",
      "Collecting opencv-python\n",
      "  Using cached opencv_python-4.9.0.80-cp37-abi3-macosx_10_16_x86_64.whl.metadata (20 kB)\n",
      "Collecting mediapipe\n",
      "  Using cached mediapipe-0.9.1.0-cp38-cp38-macosx_10_15_x86_64.whl (35.2 MB)\n",
      "Requirement already satisfied: scikit-learn in ./env/lib/python3.8/site-packages (1.3.0)\n",
      "Requirement already satisfied: matplotlib in ./env/lib/python3.8/site-packages (3.2.2)\n",
      "Collecting absl-py~=0.10 (from tensorflow==2.4.1)\n",
      "  Downloading absl_py-0.15.0-py3-none-any.whl (132 kB)\n",
      "\u001b[2K     \u001b[90m━━━━━━━━━━━━━━━━━━━━━━━━━━━━━━━━━━━━━\u001b[0m \u001b[32m132.0/132.0 kB\u001b[0m \u001b[31m377.0 kB/s\u001b[0m eta \u001b[36m0:00:00\u001b[0ma \u001b[36m0:00:01\u001b[0m\n",
      "\u001b[?25hRequirement already satisfied: astunparse~=1.6.3 in ./env/lib/python3.8/site-packages (from tensorflow==2.4.1) (1.6.3)\n",
      "Collecting flatbuffers~=1.12.0 (from tensorflow==2.4.1)\n",
      "  Downloading flatbuffers-1.12-py2.py3-none-any.whl (15 kB)\n",
      "Requirement already satisfied: google-pasta~=0.2 in ./env/lib/python3.8/site-packages (from tensorflow==2.4.1) (0.2.0)\n",
      "Collecting h5py~=2.10.0 (from tensorflow==2.4.1)\n",
      "  Downloading h5py-2.10.0-cp38-cp38-macosx_10_9_x86_64.whl (3.0 MB)\n",
      "\u001b[2K     \u001b[90m━━━━━━━━━━━━━━━━━━━━━━━━━━━━━━━━━━━━━━━━\u001b[0m \u001b[32m3.0/3.0 MB\u001b[0m \u001b[31m600.9 kB/s\u001b[0m eta \u001b[36m0:00:00\u001b[0m00:01\u001b[0m00:01\u001b[0m\n",
      "\u001b[?25hRequirement already satisfied: keras-preprocessing~=1.1.2 in ./env/lib/python3.8/site-packages (from tensorflow==2.4.1) (1.1.2)\n",
      "Collecting numpy~=1.19.2 (from tensorflow==2.4.1)\n",
      "  Downloading numpy-1.19.5-cp38-cp38-macosx_10_9_x86_64.whl (15.6 MB)\n",
      "\u001b[2K     \u001b[90m━━━━━━━━━━━━━━━━━━━━━━━━━━━━━━━━━━━━━━━\u001b[0m \u001b[32m15.6/15.6 MB\u001b[0m \u001b[31m600.1 kB/s\u001b[0m eta \u001b[36m0:00:00\u001b[0m00:01\u001b[0m00:01\u001b[0m\n",
      "\u001b[?25hRequirement already satisfied: opt-einsum~=3.3.0 in ./env/lib/python3.8/site-packages (from tensorflow==2.4.1) (3.3.0)\n",
      "Requirement already satisfied: protobuf>=3.9.2 in ./env/lib/python3.8/site-packages (from tensorflow==2.4.1) (3.20.3)\n",
      "Collecting six~=1.15.0 (from tensorflow==2.4.1)\n",
      "  Downloading six-1.15.0-py2.py3-none-any.whl (10 kB)\n",
      "Collecting termcolor~=1.1.0 (from tensorflow==2.4.1)\n",
      "  Downloading termcolor-1.1.0.tar.gz (3.9 kB)\n",
      "  Preparing metadata (setup.py) ... \u001b[?25ldone\n",
      "\u001b[?25hCollecting typing-extensions~=3.7.4 (from tensorflow==2.4.1)\n",
      "  Downloading typing_extensions-3.7.4.3-py3-none-any.whl (22 kB)\n",
      "Requirement already satisfied: wheel~=0.35 in ./env/lib/python3.8/site-packages (from tensorflow==2.4.1) (0.41.2)\n",
      "Collecting wrapt~=1.12.1 (from tensorflow==2.4.1)\n",
      "  Downloading wrapt-1.12.1.tar.gz (27 kB)\n",
      "  Preparing metadata (setup.py) ... \u001b[?25ldone\n",
      "\u001b[?25hCollecting gast==0.3.3 (from tensorflow==2.4.1)\n",
      "  Downloading gast-0.3.3-py2.py3-none-any.whl (9.7 kB)\n",
      "Requirement already satisfied: tensorboard~=2.4 in ./env/lib/python3.8/site-packages (from tensorflow==2.4.1) (2.11.2)\n",
      "Collecting tensorflow-estimator<2.5.0,>=2.4.0 (from tensorflow==2.4.1)\n",
      "  Downloading tensorflow_estimator-2.4.0-py2.py3-none-any.whl (462 kB)\n",
      "\u001b[2K     \u001b[90m━━━━━━━━━━━━━━━━━━━━━━━━━━━━━━━━━━━━━\u001b[0m \u001b[32m462.0/462.0 kB\u001b[0m \u001b[31m608.6 kB/s\u001b[0m eta \u001b[36m0:00:00\u001b[0m00:01\u001b[0m00:01\u001b[0m\n",
      "\u001b[?25hCollecting grpcio~=1.32.0 (from tensorflow==2.4.1)\n",
      "  Downloading grpcio-1.32.0-cp38-cp38-macosx_10_9_x86_64.whl (3.3 MB)\n",
      "\u001b[2K     \u001b[90m━━━━━━━━━━━━━━━━━━━━━━━━━━━━━━━━━━━━━━━━\u001b[0m \u001b[32m3.3/3.3 MB\u001b[0m \u001b[31m601.9 kB/s\u001b[0m eta \u001b[36m0:00:00\u001b[0m00:01\u001b[0m00:01\u001b[0m\n",
      "\u001b[?25hRequirement already satisfied: attrs>=19.1.0 in ./env/lib/python3.8/site-packages (from mediapipe) (23.1.0)\n",
      "INFO: pip is looking at multiple versions of mediapipe to determine which version is compatible with other requirements. This could take a while.\n",
      "Collecting mediapipe\n",
      "  Downloading mediapipe-0.9.0.1-cp38-cp38-macosx_10_15_x86_64.whl (35.2 MB)\n",
      "\u001b[2K     \u001b[90m━━━━━━━━━━━━━━━━━━━━━━━━━━━━━━━━━━━━━━━\u001b[0m \u001b[32m35.2/35.2 MB\u001b[0m \u001b[31m443.5 kB/s\u001b[0m eta \u001b[36m0:00:00\u001b[0m00:01\u001b[0m00:02\u001b[0m\n",
      "\u001b[?25h  Downloading mediapipe-0.9.0-cp38-cp38-macosx_10_15_x86_64.whl (35.2 MB)\n",
      "\u001b[2K     \u001b[90m━━━━━━━━━━━━━━━━━━━━━━━━━━━━━━━━━━━━━━━\u001b[0m \u001b[32m35.2/35.2 MB\u001b[0m \u001b[31m597.3 kB/s\u001b[0m eta \u001b[36m0:00:00\u001b[0m00:01\u001b[0m00:02\u001b[0m\n",
      "\u001b[?25h  Downloading mediapipe-0.8.11-cp38-cp38-macosx_10_15_x86_64.whl (33.6 MB)\n",
      "\u001b[2K     \u001b[90m━━━━━━━━━━━━━━━━━━━━━━━━━━━━━━━━━━━━━━━\u001b[0m \u001b[32m33.6/33.6 MB\u001b[0m \u001b[31m568.1 kB/s\u001b[0m eta \u001b[36m0:00:00\u001b[0m00:01\u001b[0m00:02\u001b[0m\n",
      "\u001b[?25hCollecting opencv-contrib-python (from mediapipe)\n",
      "  Downloading opencv_contrib_python-4.9.0.80-cp37-abi3-macosx_10_16_x86_64.whl.metadata (20 kB)\n",
      "Requirement already satisfied: scipy>=1.5.0 in ./env/lib/python3.8/site-packages (from scikit-learn) (1.10.1)\n",
      "Requirement already satisfied: joblib>=1.1.1 in ./env/lib/python3.8/site-packages (from scikit-learn) (1.2.0)\n",
      "Requirement already satisfied: threadpoolctl>=2.0.0 in ./env/lib/python3.8/site-packages (from scikit-learn) (2.2.0)\n",
      "Requirement already satisfied: cycler>=0.10 in ./env/lib/python3.8/site-packages (from matplotlib) (0.11.0)\n",
      "Requirement already satisfied: kiwisolver>=1.0.1 in ./env/lib/python3.8/site-packages (from matplotlib) (1.4.4)\n",
      "Requirement already satisfied: pyparsing!=2.0.4,!=2.1.2,!=2.1.6,>=2.0.1 in ./env/lib/python3.8/site-packages (from matplotlib) (3.0.9)\n",
      "Requirement already satisfied: python-dateutil>=2.1 in ./env/lib/python3.8/site-packages (from matplotlib) (2.8.2)\n",
      "Requirement already satisfied: google-auth<3,>=1.6.3 in ./env/lib/python3.8/site-packages (from tensorboard~=2.4->tensorflow==2.4.1) (2.25.2)\n",
      "Requirement already satisfied: google-auth-oauthlib<0.5,>=0.4.1 in ./env/lib/python3.8/site-packages (from tensorboard~=2.4->tensorflow==2.4.1) (0.4.6)\n",
      "Requirement already satisfied: markdown>=2.6.8 in ./env/lib/python3.8/site-packages (from tensorboard~=2.4->tensorflow==2.4.1) (3.5.1)\n",
      "Requirement already satisfied: requests<3,>=2.21.0 in ./env/lib/python3.8/site-packages (from tensorboard~=2.4->tensorflow==2.4.1) (2.31.0)\n",
      "Requirement already satisfied: setuptools>=41.0.0 in ./env/lib/python3.8/site-packages (from tensorboard~=2.4->tensorflow==2.4.1) (69.0.2)\n",
      "Requirement already satisfied: tensorboard-data-server<0.7.0,>=0.6.0 in ./env/lib/python3.8/site-packages (from tensorboard~=2.4->tensorflow==2.4.1) (0.6.1)\n",
      "Requirement already satisfied: tensorboard-plugin-wit>=1.6.0 in ./env/lib/python3.8/site-packages (from tensorboard~=2.4->tensorflow==2.4.1) (1.8.1)\n",
      "Requirement already satisfied: werkzeug>=1.0.1 in ./env/lib/python3.8/site-packages (from tensorboard~=2.4->tensorflow==2.4.1) (3.0.1)\n",
      "Requirement already satisfied: cachetools<6.0,>=2.0.0 in ./env/lib/python3.8/site-packages (from google-auth<3,>=1.6.3->tensorboard~=2.4->tensorflow==2.4.1) (5.3.2)\n",
      "Requirement already satisfied: pyasn1-modules>=0.2.1 in ./env/lib/python3.8/site-packages (from google-auth<3,>=1.6.3->tensorboard~=2.4->tensorflow==2.4.1) (0.3.0)\n",
      "Requirement already satisfied: rsa<5,>=3.1.4 in ./env/lib/python3.8/site-packages (from google-auth<3,>=1.6.3->tensorboard~=2.4->tensorflow==2.4.1) (4.9)\n",
      "Requirement already satisfied: requests-oauthlib>=0.7.0 in ./env/lib/python3.8/site-packages (from google-auth-oauthlib<0.5,>=0.4.1->tensorboard~=2.4->tensorflow==2.4.1) (1.3.1)\n",
      "Requirement already satisfied: importlib-metadata>=4.4 in ./env/lib/python3.8/site-packages (from markdown>=2.6.8->tensorboard~=2.4->tensorflow==2.4.1) (7.0.0)\n",
      "Requirement already satisfied: charset-normalizer<4,>=2 in ./env/lib/python3.8/site-packages (from requests<3,>=2.21.0->tensorboard~=2.4->tensorflow==2.4.1) (3.3.2)\n",
      "Requirement already satisfied: idna<4,>=2.5 in ./env/lib/python3.8/site-packages (from requests<3,>=2.21.0->tensorboard~=2.4->tensorflow==2.4.1) (3.6)\n",
      "Requirement already satisfied: urllib3<3,>=1.21.1 in ./env/lib/python3.8/site-packages (from requests<3,>=2.21.0->tensorboard~=2.4->tensorflow==2.4.1) (2.1.0)\n",
      "Requirement already satisfied: certifi>=2017.4.17 in ./env/lib/python3.8/site-packages (from requests<3,>=2.21.0->tensorboard~=2.4->tensorflow==2.4.1) (2023.11.17)\n",
      "Requirement already satisfied: MarkupSafe>=2.1.1 in ./env/lib/python3.8/site-packages (from werkzeug>=1.0.1->tensorboard~=2.4->tensorflow==2.4.1) (2.1.3)\n",
      "Requirement already satisfied: zipp>=0.5 in ./env/lib/python3.8/site-packages (from importlib-metadata>=4.4->markdown>=2.6.8->tensorboard~=2.4->tensorflow==2.4.1) (3.17.0)\n",
      "Requirement already satisfied: pyasn1<0.6.0,>=0.4.6 in ./env/lib/python3.8/site-packages (from pyasn1-modules>=0.2.1->google-auth<3,>=1.6.3->tensorboard~=2.4->tensorflow==2.4.1) (0.5.1)\n",
      "Requirement already satisfied: oauthlib>=3.0.0 in ./env/lib/python3.8/site-packages (from requests-oauthlib>=0.7.0->google-auth-oauthlib<0.5,>=0.4.1->tensorboard~=2.4->tensorflow==2.4.1) (3.2.2)\n",
      "Downloading opencv_python-4.9.0.80-cp37-abi3-macosx_10_16_x86_64.whl (55.7 MB)\n",
      "\u001b[2K   \u001b[90m━━━━━━━━━━━━━━━━━━━━━━━━━━━━━━━━━━━━━━━━\u001b[0m \u001b[32m55.7/55.7 MB\u001b[0m \u001b[31m561.8 kB/s\u001b[0m eta \u001b[36m0:00:00\u001b[0m00:01\u001b[0m00:03\u001b[0m\n",
      "\u001b[?25hDownloading opencv_contrib_python-4.9.0.80-cp37-abi3-macosx_10_16_x86_64.whl (65.4 MB)\n",
      "\u001b[2K   \u001b[90m━━━━━━━━━━━━━━━━━━━━━━━━━━━━━━━━━━━━━━━━\u001b[0m \u001b[32m65.4/65.4 MB\u001b[0m \u001b[31m420.3 kB/s\u001b[0m eta \u001b[36m0:00:00\u001b[0m00:01\u001b[0m00:04\u001b[0m\n",
      "\u001b[?25hBuilding wheels for collected packages: termcolor, wrapt\n",
      "  Building wheel for termcolor (setup.py) ... \u001b[?25ldone\n",
      "\u001b[?25h  Created wheel for termcolor: filename=termcolor-1.1.0-py3-none-any.whl size=4832 sha256=c5d3785ad369340169733bdaa2287fb292a7c2b58efb1fab9e58ef5ceed74818\n",
      "  Stored in directory: /Users/mac/Library/Caches/pip/wheels/a0/16/9c/5473df82468f958445479c59e784896fa24f4a5fc024b0f501\n",
      "  Building wheel for wrapt (setup.py) ... \u001b[?25ldone\n",
      "\u001b[?25h  Created wheel for wrapt: filename=wrapt-1.12.1-cp38-cp38-macosx_10_9_x86_64.whl size=32589 sha256=1841283b9a1c48e8812e22c6168a4266158adc4280112d32826c7a00082bd3ab\n",
      "  Stored in directory: /Users/mac/Library/Caches/pip/wheels/5f/fd/9e/b6cf5890494cb8ef0b5eaff72e5d55a70fb56316007d6dfe73\n",
      "Successfully built termcolor wrapt\n",
      "Installing collected packages: wrapt, typing-extensions, termcolor, tensorflow-estimator, flatbuffers, six, numpy, gast, opencv-python, opencv-contrib-python, h5py, grpcio, absl-py, mediapipe, tensorflow\n",
      "  Attempting uninstall: wrapt\n",
      "    Found existing installation: wrapt 1.16.0\n",
      "    Uninstalling wrapt-1.16.0:\n",
      "      Successfully uninstalled wrapt-1.16.0\n",
      "  Attempting uninstall: typing-extensions\n",
      "    Found existing installation: typing_extensions 4.9.0\n",
      "    Uninstalling typing_extensions-4.9.0:\n",
      "      Successfully uninstalled typing_extensions-4.9.0\n",
      "  Attempting uninstall: termcolor\n",
      "    Found existing installation: termcolor 2.3.0\n",
      "    Uninstalling termcolor-2.3.0:\n",
      "      Successfully uninstalled termcolor-2.3.0\n",
      "  Attempting uninstall: tensorflow-estimator\n",
      "    Found existing installation: tensorflow-estimator 2.11.0\n",
      "    Uninstalling tensorflow-estimator-2.11.0:\n",
      "      Successfully uninstalled tensorflow-estimator-2.11.0\n",
      "  Attempting uninstall: flatbuffers\n",
      "    Found existing installation: flatbuffers 23.5.26\n",
      "    Uninstalling flatbuffers-23.5.26:\n",
      "      Successfully uninstalled flatbuffers-23.5.26\n",
      "  Attempting uninstall: six\n",
      "    Found existing installation: six 1.16.0\n",
      "    Uninstalling six-1.16.0:\n",
      "      Successfully uninstalled six-1.16.0\n",
      "  Attempting uninstall: numpy\n",
      "    Found existing installation: numpy 1.24.3\n",
      "    Uninstalling numpy-1.24.3:\n",
      "      Successfully uninstalled numpy-1.24.3\n",
      "  Attempting uninstall: gast\n",
      "    Found existing installation: gast 0.4.0\n",
      "    Uninstalling gast-0.4.0:\n",
      "      Successfully uninstalled gast-0.4.0\n",
      "  Attempting uninstall: h5py\n",
      "    Found existing installation: h5py 3.8.0\n",
      "    Uninstalling h5py-3.8.0:\n",
      "      Successfully uninstalled h5py-3.8.0\n",
      "  Attempting uninstall: grpcio\n",
      "    Found existing installation: grpcio 1.51.1\n",
      "    Uninstalling grpcio-1.51.1:\n",
      "      Successfully uninstalled grpcio-1.51.1\n",
      "  Attempting uninstall: absl-py\n",
      "    Found existing installation: absl-py 1.4.0\n",
      "    Uninstalling absl-py-1.4.0:\n",
      "      Successfully uninstalled absl-py-1.4.0\n",
      "  Attempting uninstall: tensorflow\n",
      "    Found existing installation: tensorflow 2.11.1\n",
      "    Uninstalling tensorflow-2.11.1:\n",
      "      Successfully uninstalled tensorflow-2.11.1\n",
      "\u001b[31mERROR: pip's dependency resolver does not currently take into account all the packages that are installed. This behaviour is the source of the following dependency conflicts.\n",
      "async-lru 2.0.4 requires typing-extensions>=4.0.0; python_version < \"3.11\", but you have typing-extensions 3.7.4.3 which is incompatible.\n",
      "pandas 1.5.3 requires numpy>=1.20.3, but you have numpy 1.19.5 which is incompatible.\u001b[0m\u001b[31m\n",
      "\u001b[0mSuccessfully installed absl-py-0.15.0 flatbuffers-1.12 gast-0.3.3 grpcio-1.32.0 h5py-2.10.0 mediapipe-0.8.11 numpy-1.19.5 opencv-contrib-python-4.9.0.80 opencv-python-4.9.0.80 six-1.15.0 tensorflow-2.4.1 tensorflow-estimator-2.4.0 termcolor-1.1.0 typing-extensions-3.7.4.3 wrapt-1.12.1\n"
     ]
    }
   ],
   "source": [
    "!pip install tensorflow==2.4.1 opencv-python mediapipe scikit-learn matplotlib "
   ]
  },
  {
   "cell_type": "code",
   "execution_count": 1,
   "id": "3d6822c5-99ae-4d30-a92b-947c7f3bd50c",
   "metadata": {},
   "outputs": [
    {
     "name": "stdout",
     "output_type": "stream",
     "text": [
      "Collecting numpy==1.19.2\n",
      "  Using cached numpy-1.19.2-cp38-cp38-macosx_10_9_x86_64.whl (15.3 MB)\n",
      "Collecting scipy==1.6.0\n",
      "  Using cached scipy-1.6.0-cp38-cp38-macosx_10_9_x86_64.whl (30.7 MB)\n",
      "Requirement already satisfied: pandas==1.2.5 in ./env/lib/python3.8/site-packages (1.2.5)\n",
      "Requirement already satisfied: scikit-learn==1.3.2 in ./env/lib/python3.8/site-packages (1.3.2)\n",
      "Requirement already satisfied: tensorflow==2.4.1 in ./env/lib/python3.8/site-packages (2.4.1)\n",
      "Requirement already satisfied: python-dateutil>=2.7.3 in ./env/lib/python3.8/site-packages (from pandas==1.2.5) (2.8.2)\n",
      "Requirement already satisfied: pytz>=2017.3 in ./env/lib/python3.8/site-packages (from pandas==1.2.5) (2023.3.post1)\n",
      "Requirement already satisfied: joblib>=1.1.1 in ./env/lib/python3.8/site-packages (from scikit-learn==1.3.2) (1.3.2)\n",
      "Requirement already satisfied: threadpoolctl>=2.0.0 in ./env/lib/python3.8/site-packages (from scikit-learn==1.3.2) (3.2.0)\n",
      "Requirement already satisfied: absl-py~=0.10 in ./env/lib/python3.8/site-packages (from tensorflow==2.4.1) (0.15.0)\n",
      "Requirement already satisfied: astunparse~=1.6.3 in ./env/lib/python3.8/site-packages (from tensorflow==2.4.1) (1.6.3)\n",
      "Requirement already satisfied: flatbuffers~=1.12.0 in ./env/lib/python3.8/site-packages (from tensorflow==2.4.1) (1.12)\n",
      "Requirement already satisfied: google-pasta~=0.2 in ./env/lib/python3.8/site-packages (from tensorflow==2.4.1) (0.2.0)\n",
      "Requirement already satisfied: h5py~=2.10.0 in ./env/lib/python3.8/site-packages (from tensorflow==2.4.1) (2.10.0)\n",
      "Requirement already satisfied: keras-preprocessing~=1.1.2 in ./env/lib/python3.8/site-packages (from tensorflow==2.4.1) (1.1.2)\n",
      "Requirement already satisfied: opt-einsum~=3.3.0 in ./env/lib/python3.8/site-packages (from tensorflow==2.4.1) (3.3.0)\n",
      "Requirement already satisfied: protobuf>=3.9.2 in ./env/lib/python3.8/site-packages (from tensorflow==2.4.1) (3.20.3)\n",
      "Requirement already satisfied: six~=1.15.0 in ./env/lib/python3.8/site-packages (from tensorflow==2.4.1) (1.15.0)\n",
      "Requirement already satisfied: termcolor~=1.1.0 in ./env/lib/python3.8/site-packages (from tensorflow==2.4.1) (1.1.0)\n",
      "Requirement already satisfied: typing-extensions~=3.7.4 in ./env/lib/python3.8/site-packages (from tensorflow==2.4.1) (3.7.4.3)\n",
      "Requirement already satisfied: wheel~=0.35 in ./env/lib/python3.8/site-packages (from tensorflow==2.4.1) (0.41.2)\n",
      "Requirement already satisfied: wrapt~=1.12.1 in ./env/lib/python3.8/site-packages (from tensorflow==2.4.1) (1.12.1)\n",
      "Requirement already satisfied: gast==0.3.3 in ./env/lib/python3.8/site-packages (from tensorflow==2.4.1) (0.3.3)\n",
      "Requirement already satisfied: tensorboard~=2.4 in ./env/lib/python3.8/site-packages (from tensorflow==2.4.1) (2.11.2)\n",
      "Requirement already satisfied: tensorflow-estimator<2.5.0,>=2.4.0 in ./env/lib/python3.8/site-packages (from tensorflow==2.4.1) (2.4.0)\n",
      "Requirement already satisfied: grpcio~=1.32.0 in ./env/lib/python3.8/site-packages (from tensorflow==2.4.1) (1.32.0)\n",
      "Requirement already satisfied: google-auth<3,>=1.6.3 in ./env/lib/python3.8/site-packages (from tensorboard~=2.4->tensorflow==2.4.1) (2.25.2)\n",
      "Requirement already satisfied: google-auth-oauthlib<0.5,>=0.4.1 in ./env/lib/python3.8/site-packages (from tensorboard~=2.4->tensorflow==2.4.1) (0.4.6)\n",
      "Requirement already satisfied: markdown>=2.6.8 in ./env/lib/python3.8/site-packages (from tensorboard~=2.4->tensorflow==2.4.1) (3.5.1)\n",
      "Requirement already satisfied: requests<3,>=2.21.0 in ./env/lib/python3.8/site-packages (from tensorboard~=2.4->tensorflow==2.4.1) (2.31.0)\n",
      "Requirement already satisfied: setuptools>=41.0.0 in ./env/lib/python3.8/site-packages (from tensorboard~=2.4->tensorflow==2.4.1) (69.0.2)\n",
      "Requirement already satisfied: tensorboard-data-server<0.7.0,>=0.6.0 in ./env/lib/python3.8/site-packages (from tensorboard~=2.4->tensorflow==2.4.1) (0.6.1)\n",
      "Requirement already satisfied: tensorboard-plugin-wit>=1.6.0 in ./env/lib/python3.8/site-packages (from tensorboard~=2.4->tensorflow==2.4.1) (1.8.1)\n",
      "Requirement already satisfied: werkzeug>=1.0.1 in ./env/lib/python3.8/site-packages (from tensorboard~=2.4->tensorflow==2.4.1) (3.0.1)\n",
      "Requirement already satisfied: cachetools<6.0,>=2.0.0 in ./env/lib/python3.8/site-packages (from google-auth<3,>=1.6.3->tensorboard~=2.4->tensorflow==2.4.1) (5.3.2)\n",
      "Requirement already satisfied: pyasn1-modules>=0.2.1 in ./env/lib/python3.8/site-packages (from google-auth<3,>=1.6.3->tensorboard~=2.4->tensorflow==2.4.1) (0.3.0)\n",
      "Requirement already satisfied: rsa<5,>=3.1.4 in ./env/lib/python3.8/site-packages (from google-auth<3,>=1.6.3->tensorboard~=2.4->tensorflow==2.4.1) (4.9)\n",
      "Requirement already satisfied: requests-oauthlib>=0.7.0 in ./env/lib/python3.8/site-packages (from google-auth-oauthlib<0.5,>=0.4.1->tensorboard~=2.4->tensorflow==2.4.1) (1.3.1)\n",
      "Requirement already satisfied: importlib-metadata>=4.4 in ./env/lib/python3.8/site-packages (from markdown>=2.6.8->tensorboard~=2.4->tensorflow==2.4.1) (7.0.0)\n",
      "Requirement already satisfied: charset-normalizer<4,>=2 in ./env/lib/python3.8/site-packages (from requests<3,>=2.21.0->tensorboard~=2.4->tensorflow==2.4.1) (3.3.2)\n",
      "Requirement already satisfied: idna<4,>=2.5 in ./env/lib/python3.8/site-packages (from requests<3,>=2.21.0->tensorboard~=2.4->tensorflow==2.4.1) (3.6)\n",
      "Requirement already satisfied: urllib3<3,>=1.21.1 in ./env/lib/python3.8/site-packages (from requests<3,>=2.21.0->tensorboard~=2.4->tensorflow==2.4.1) (2.1.0)\n",
      "Requirement already satisfied: certifi>=2017.4.17 in ./env/lib/python3.8/site-packages (from requests<3,>=2.21.0->tensorboard~=2.4->tensorflow==2.4.1) (2023.11.17)\n",
      "Requirement already satisfied: MarkupSafe>=2.1.1 in ./env/lib/python3.8/site-packages (from werkzeug>=1.0.1->tensorboard~=2.4->tensorflow==2.4.1) (2.1.3)\n",
      "Requirement already satisfied: zipp>=0.5 in ./env/lib/python3.8/site-packages (from importlib-metadata>=4.4->markdown>=2.6.8->tensorboard~=2.4->tensorflow==2.4.1) (3.17.0)\n",
      "Requirement already satisfied: pyasn1<0.6.0,>=0.4.6 in ./env/lib/python3.8/site-packages (from pyasn1-modules>=0.2.1->google-auth<3,>=1.6.3->tensorboard~=2.4->tensorflow==2.4.1) (0.5.1)\n",
      "Requirement already satisfied: oauthlib>=3.0.0 in ./env/lib/python3.8/site-packages (from requests-oauthlib>=0.7.0->google-auth-oauthlib<0.5,>=0.4.1->tensorboard~=2.4->tensorflow==2.4.1) (3.2.2)\n",
      "Installing collected packages: numpy, scipy\n",
      "  Attempting uninstall: numpy\n",
      "    Found existing installation: numpy 1.24.4\n",
      "    Uninstalling numpy-1.24.4:\n",
      "      Successfully uninstalled numpy-1.24.4\n",
      "  Attempting uninstall: scipy\n",
      "    Found existing installation: scipy 1.10.1\n",
      "    Uninstalling scipy-1.10.1:\n",
      "      Successfully uninstalled scipy-1.10.1\n",
      "Successfully installed numpy-1.19.2 scipy-1.6.0\n",
      "Note: you may need to restart the kernel to use updated packages.\n"
     ]
    }
   ],
   "source": [
    "pip install numpy==1.19.2 scipy==1.6.0 pandas==1.2.5 scikit-learn==1.3.2 tensorflow==2.4.1"
   ]
  },
  {
   "cell_type": "code",
   "execution_count": 1,
   "id": "fe35a8fd-94be-41a9-a444-accb1385c13a",
   "metadata": {},
   "outputs": [
    {
     "name": "stdout",
     "output_type": "stream",
     "text": [
      "Package                   Version\n",
      "------------------------- ------------\n",
      "absl-py                   0.15.0\n",
      "aiohttp                   3.9.1\n",
      "aiosignal                 1.3.1\n",
      "anyio                     3.5.0\n",
      "appnope                   0.1.2\n",
      "argon2-cffi               21.3.0\n",
      "argon2-cffi-bindings      21.2.0\n",
      "array-record              0.4.0\n",
      "asttokens                 2.0.5\n",
      "astunparse                1.6.3\n",
      "async-lru                 2.0.4\n",
      "async-timeout             4.0.3\n",
      "attrs                     23.1.0\n",
      "Babel                     2.11.0\n",
      "backcall                  0.2.0\n",
      "beautifulsoup4            4.12.2\n",
      "bleach                    4.1.0\n",
      "blinker                   1.7.0\n",
      "Brotli                    1.0.9\n",
      "cached-property           1.5.2\n",
      "cachetools                5.3.2\n",
      "certifi                   2023.11.17\n",
      "cffi                      1.16.0\n",
      "charset-normalizer        3.3.2\n",
      "click                     8.1.7\n",
      "comm                      0.1.2\n",
      "cryptography              41.0.7\n",
      "cycler                    0.11.0\n",
      "Cython                    3.0.6\n",
      "debugpy                   1.6.7\n",
      "decorator                 5.1.1\n",
      "defusedxml                0.7.1\n",
      "dm-tree                   0.1.8\n",
      "entrypoints               0.4\n",
      "etils                     1.3.0\n",
      "executing                 0.8.3\n",
      "fastjsonschema            2.16.2\n",
      "flatbuffers               1.12\n",
      "frozenlist                1.4.0\n",
      "gast                      0.3.3\n",
      "google-auth               2.25.2\n",
      "google-auth-oauthlib      0.4.6\n",
      "google-pasta              0.2.0\n",
      "googleapis-common-protos  1.62.0\n",
      "grpcio                    1.32.0\n",
      "h5py                      2.10.0\n",
      "idna                      3.6\n",
      "importlib-metadata        7.0.0\n",
      "importlib-resources       6.1.0\n",
      "ipykernel                 6.25.0\n",
      "ipython                   8.12.2\n",
      "ipywidgets                8.0.4\n",
      "jedi                      0.18.1\n",
      "Jinja2                    3.1.2\n",
      "joblib                    1.3.2\n",
      "json5                     0.9.6\n",
      "jsonschema                4.19.2\n",
      "jsonschema-specifications 2023.7.1\n",
      "jupyter                   1.0.0\n",
      "jupyter_client            7.4.9\n",
      "jupyter-console           6.6.3\n",
      "jupyter_core              5.5.0\n",
      "jupyter-events            0.8.0\n",
      "jupyter-lsp               2.2.0\n",
      "jupyter_server            2.10.0\n",
      "jupyter_server_terminals  0.4.4\n",
      "jupyterlab                4.0.8\n",
      "jupyterlab-pygments       0.1.2\n",
      "jupyterlab_server         2.25.1\n",
      "jupyterlab-widgets        3.0.9\n",
      "keras                     2.11.0\n",
      "Keras-Preprocessing       1.1.2\n",
      "kiwisolver                1.4.4\n",
      "Markdown                  3.5.1\n",
      "MarkupSafe                2.1.3\n",
      "matplotlib                3.2.2\n",
      "matplotlib-inline         0.1.6\n",
      "mediapipe                 0.8.11\n",
      "mistune                   2.0.4\n",
      "multidict                 6.0.4\n",
      "nbclient                  0.8.0\n",
      "nbconvert                 7.10.0\n",
      "nbformat                  5.9.2\n",
      "nest-asyncio              1.5.6\n",
      "notebook                  7.0.6\n",
      "notebook_shim             0.2.3\n",
      "numpy                     1.19.2\n",
      "oauthlib                  3.2.2\n",
      "opencv-contrib-python     4.9.0.80\n",
      "opencv-python             4.9.0.80\n",
      "opt-einsum                3.3.0\n",
      "overrides                 7.4.0\n",
      "packaging                 23.2\n",
      "pandas                    1.2.5\n",
      "pandocfilters             1.5.0\n",
      "parso                     0.8.3\n",
      "pexpect                   4.8.0\n",
      "pickleshare               0.7.5\n",
      "Pillow                    10.1.0\n",
      "pip                       23.3.1\n",
      "pkgutil_resolve_name      1.3.10\n",
      "platformdirs              4.1.0\n",
      "pooch                     1.8.0\n",
      "prometheus-client         0.14.1\n",
      "promise                   2.3\n",
      "prompt-toolkit            3.0.36\n",
      "protobuf                  3.20.3\n",
      "psutil                    5.9.0\n",
      "ptyprocess                0.7.0\n",
      "pure-eval                 0.2.2\n",
      "pyasn1                    0.5.1\n",
      "pyasn1-modules            0.3.0\n",
      "pycparser                 2.21\n",
      "Pygments                  2.15.1\n",
      "PyJWT                     2.8.0\n",
      "pyOpenSSL                 23.3.0\n",
      "pyparsing                 3.0.9\n",
      "PySocks                   1.7.1\n",
      "python-dateutil           2.8.2\n",
      "python-json-logger        2.0.7\n",
      "pytz                      2023.3.post1\n",
      "pyu2f                     0.1.5\n",
      "PyYAML                    6.0.1\n",
      "pyzmq                     25.1.0\n",
      "qtconsole                 5.5.1\n",
      "QtPy                      2.4.1\n",
      "referencing               0.30.2\n",
      "requests                  2.31.0\n",
      "requests-oauthlib         1.3.1\n",
      "rfc3339-validator         0.1.4\n",
      "rfc3986-validator         0.1.1\n",
      "rpds-py                   0.10.6\n",
      "rsa                       4.9\n",
      "scikit-learn              1.3.2\n",
      "scipy                     1.6.0\n",
      "Send2Trash                1.8.2\n",
      "setuptools                69.0.2\n",
      "six                       1.15.0\n",
      "sniffio                   1.2.0\n",
      "soupsieve                 2.5\n",
      "stack-data                0.2.0\n",
      "tensorboard               2.11.2\n",
      "tensorboard-data-server   0.6.1\n",
      "tensorboard-plugin-wit    1.8.1\n",
      "tensorflow                2.4.1\n",
      "tensorflow-datasets       4.9.2\n",
      "tensorflow-estimator      2.4.0\n",
      "tensorflow-hub            0.15.0\n",
      "tensorflow-metadata       1.14.0\n",
      "termcolor                 1.1.0\n",
      "terminado                 0.17.1\n",
      "threadpoolctl             3.2.0\n",
      "tinycss2                  1.2.1\n",
      "toml                      0.10.2\n",
      "tomli                     2.0.1\n",
      "tornado                   6.3.3\n",
      "tqdm                      4.66.1\n",
      "traitlets                 5.7.1\n",
      "typing-extensions         3.7.4.3\n",
      "urllib3                   2.1.0\n",
      "wcwidth                   0.2.5\n",
      "webencodings              0.5.1\n",
      "websocket-client          0.58.0\n",
      "Werkzeug                  3.0.1\n",
      "wheel                     0.41.2\n",
      "widgetsnbextension        4.0.5\n",
      "wrapt                     1.12.1\n",
      "yarl                      1.9.3\n",
      "zipp                      3.17.0\n",
      "Note: you may need to restart the kernel to use updated packages.\n"
     ]
    }
   ],
   "source": [
    "pip list"
   ]
  },
  {
   "cell_type": "code",
   "execution_count": 2,
   "id": "39227eb7-c160-42a6-aea9-0aeec6afe3a4",
   "metadata": {},
   "outputs": [
    {
     "name": "stdout",
     "output_type": "stream",
     "text": [
      "Python 3.8.18\n"
     ]
    }
   ],
   "source": [
    "!python --version"
   ]
  },
  {
   "cell_type": "code",
   "execution_count": 3,
   "id": "5a10f6c2-7df0-4264-8c5a-8f8509ecd3aa",
   "metadata": {},
   "outputs": [
    {
     "name": "stdout",
     "output_type": "stream",
     "text": [
      "pip 23.3.1 from /Users/mac/tensorflow-computervision/env/lib/python3.8/site-packages/pip (python 3.8)\n"
     ]
    }
   ],
   "source": [
    "!pip --version"
   ]
  },
  {
   "cell_type": "code",
   "execution_count": 7,
   "id": "3baba928-0348-4f11-a751-0ee2a7ef0554",
   "metadata": {},
   "outputs": [],
   "source": [
    "# 2. Import Dependencies"
   ]
  },
  {
   "cell_type": "code",
   "execution_count": 1,
   "id": "1ac231af-baf0-4733-b644-3d525bcab532",
   "metadata": {},
   "outputs": [],
   "source": [
    "import cv2\n",
    "import numpy as np\n",
    "import os\n",
    "from matplotlib import pyplot as plt\n",
    "import time\n",
    "import mediapipe as mp  "
   ]
  },
  {
   "cell_type": "code",
   "execution_count": 8,
   "id": "d9b191d2-ed83-456b-bee7-547964b3e95e",
   "metadata": {},
   "outputs": [],
   "source": [
    "# 2. Key Points Using Media Pipe Holistics"
   ]
  },
  {
   "cell_type": "code",
   "execution_count": 9,
   "id": "a39a9397-e1f2-46cc-be9d-925ed41d9556",
   "metadata": {},
   "outputs": [],
   "source": [
    "mp_holistic = mp.solutions.holistic # Holistic model\n",
    "mp_drawing = mp.solutions.drawing_utils # Drawing utilities"
   ]
  },
  {
   "cell_type": "code",
   "execution_count": 10,
   "id": "19ec9805-359c-4d09-82e1-43595fd34da2",
   "metadata": {},
   "outputs": [],
   "source": [
    "def mediapipe_detection(image, model):\n",
    "    image = cv2.cvtColor(image, cv2.COLOR_BGR2RGB) # COLOR CONVERSION BGR 2 RGB\n",
    "    image.flags.writeable = False                  # Image is no longer writeable\n",
    "    results = model.process(image)                 # Make prediction\n",
    "    image.flags.writeable = True                   # Image is now writeable \n",
    "    image = cv2.cvtColor(image, cv2.COLOR_RGB2BGR) # COLOR COVERSION RGB 2 BGR\n",
    "    return image, results"
   ]
  },
  {
   "cell_type": "code",
   "execution_count": 11,
   "id": "1fa2cfd7-5e2f-4c12-ac72-844f2d1e4f8c",
   "metadata": {},
   "outputs": [],
   "source": [
    "def draw_landmarks(image, results):\n",
    "    mp_drawing.draw_landmarks(image, results.face_landmarks, mp_holistic.FACE_CONNECTIONS) # Draw face connections\n",
    "    mp_drawing.draw_landmarks(image, results.pose_landmarks, mp_holistic.POSE_CONNECTIONS) # Draw pose connections\n",
    "    mp_drawing.draw_landmarks(image, results.left_hand_landmarks, mp_holistic.HAND_CONNECTIONS) # Draw left hand connections\n",
    "    mp_drawing.draw_landmarks(image, results.right_hand_landmarks, mp_holistic.HAND_CONNECTIONS) # Draw right hand connections"
   ]
  },
  {
   "cell_type": "code",
   "execution_count": 12,
   "id": "6538a3a3-4115-4dd1-8f8d-a692f3fe147d",
   "metadata": {},
   "outputs": [],
   "source": [
    "def draw_styled_landmarks(image, results):\n",
    "    # Draw face connections\n",
    "    mp_drawing.draw_landmarks(image, results.face_landmarks, mp_holistic.FACEMESH_TESSELATION, \n",
    "                             mp_drawing.DrawingSpec(color=(80,110,10), thickness=1, circle_radius=1), \n",
    "                             mp_drawing.DrawingSpec(color=(80,256,121), thickness=1, circle_radius=1)\n",
    "                             ) \n",
    "    mp_drawing.draw_landmarks(image, results.face_landmarks, mp_holistic.FACEMESH_CONTOURS,\n",
    "                             mp_drawing.DrawingSpec(color=(80,22,10), thickness=1, circle_radius=4), \n",
    "                             mp_drawing.DrawingSpec(color=(80,44,121), thickness=1 , circle_radius=2)\n",
    "                             ) \n",
    "    # Draw pose connections\n",
    "    mp_drawing.draw_landmarks(image, results.pose_landmarks, mp_holistic.POSE_CONNECTIONS,\n",
    "                             mp_drawing.DrawingSpec(color=(80,22,10), thickness=2, circle_radius=4), \n",
    "                             mp_drawing.DrawingSpec(color=(80,44,121), thickness=2, circle_radius=2)\n",
    "                             ) \n",
    "    # Draw left hand connections\n",
    "    mp_drawing.draw_landmarks(image, results.left_hand_landmarks, mp_holistic.HAND_CONNECTIONS, \n",
    "                             mp_drawing.DrawingSpec(color=(121,22,76), thickness=2, circle_radius=4), \n",
    "                             mp_drawing.DrawingSpec(color=(121,44,250), thickness=2, circle_radius=2)\n",
    "                             ) \n",
    "    # Draw right hand connections  \n",
    "    mp_drawing.draw_landmarks(image, results.right_hand_landmarks, mp_holistic.HAND_CONNECTIONS, \n",
    "                             mp_drawing.DrawingSpec(color=(245,117,66), thickness=2, circle_radius=4), \n",
    "                             mp_drawing.DrawingSpec(color=(245,66,230), thickness=2, circle_radius=2)\n",
    "                             ) "
   ]
  },
  {
   "cell_type": "code",
   "execution_count": 25,
   "id": "73e78dcc-770e-4878-9e4a-97fa4c3cd972",
   "metadata": {},
   "outputs": [],
   "source": [
    "# 3. Collecting Mediapipe Holistics features of face"
   ]
  },
  {
   "cell_type": "code",
   "execution_count": 17,
   "id": "7e272ff9-4100-47a8-b485-18aa0410df6f",
   "metadata": {},
   "outputs": [
    {
     "name": "stderr",
     "output_type": "stream",
     "text": [
      "INFO: Created TensorFlow Lite XNNPACK delegate for CPU.\n"
     ]
    },
    {
     "name": "stdout",
     "output_type": "stream",
     "text": [
      "<class 'mediapipe.python.solution_base.SolutionOutputs'>\n",
      "<class 'mediapipe.python.solution_base.SolutionOutputs'>\n",
      "<class 'mediapipe.python.solution_base.SolutionOutputs'>\n",
      "<class 'mediapipe.python.solution_base.SolutionOutputs'>\n",
      "<class 'mediapipe.python.solution_base.SolutionOutputs'>\n",
      "<class 'mediapipe.python.solution_base.SolutionOutputs'>\n",
      "<class 'mediapipe.python.solution_base.SolutionOutputs'>\n",
      "<class 'mediapipe.python.solution_base.SolutionOutputs'>\n",
      "<class 'mediapipe.python.solution_base.SolutionOutputs'>\n",
      "<class 'mediapipe.python.solution_base.SolutionOutputs'>\n",
      "<class 'mediapipe.python.solution_base.SolutionOutputs'>\n",
      "<class 'mediapipe.python.solution_base.SolutionOutputs'>\n",
      "<class 'mediapipe.python.solution_base.SolutionOutputs'>\n",
      "<class 'mediapipe.python.solution_base.SolutionOutputs'>\n",
      "<class 'mediapipe.python.solution_base.SolutionOutputs'>\n",
      "<class 'mediapipe.python.solution_base.SolutionOutputs'>\n",
      "<class 'mediapipe.python.solution_base.SolutionOutputs'>\n",
      "<class 'mediapipe.python.solution_base.SolutionOutputs'>\n",
      "<class 'mediapipe.python.solution_base.SolutionOutputs'>\n",
      "<class 'mediapipe.python.solution_base.SolutionOutputs'>\n",
      "<class 'mediapipe.python.solution_base.SolutionOutputs'>\n",
      "<class 'mediapipe.python.solution_base.SolutionOutputs'>\n",
      "<class 'mediapipe.python.solution_base.SolutionOutputs'>\n",
      "<class 'mediapipe.python.solution_base.SolutionOutputs'>\n",
      "<class 'mediapipe.python.solution_base.SolutionOutputs'>\n",
      "<class 'mediapipe.python.solution_base.SolutionOutputs'>\n",
      "<class 'mediapipe.python.solution_base.SolutionOutputs'>\n",
      "<class 'mediapipe.python.solution_base.SolutionOutputs'>\n",
      "<class 'mediapipe.python.solution_base.SolutionOutputs'>\n",
      "<class 'mediapipe.python.solution_base.SolutionOutputs'>\n",
      "<class 'mediapipe.python.solution_base.SolutionOutputs'>\n",
      "<class 'mediapipe.python.solution_base.SolutionOutputs'>\n",
      "<class 'mediapipe.python.solution_base.SolutionOutputs'>\n",
      "<class 'mediapipe.python.solution_base.SolutionOutputs'>\n",
      "<class 'mediapipe.python.solution_base.SolutionOutputs'>\n",
      "<class 'mediapipe.python.solution_base.SolutionOutputs'>\n",
      "<class 'mediapipe.python.solution_base.SolutionOutputs'>\n",
      "<class 'mediapipe.python.solution_base.SolutionOutputs'>\n",
      "<class 'mediapipe.python.solution_base.SolutionOutputs'>\n",
      "<class 'mediapipe.python.solution_base.SolutionOutputs'>\n",
      "<class 'mediapipe.python.solution_base.SolutionOutputs'>\n",
      "<class 'mediapipe.python.solution_base.SolutionOutputs'>\n",
      "<class 'mediapipe.python.solution_base.SolutionOutputs'>\n",
      "<class 'mediapipe.python.solution_base.SolutionOutputs'>\n",
      "<class 'mediapipe.python.solution_base.SolutionOutputs'>\n",
      "<class 'mediapipe.python.solution_base.SolutionOutputs'>\n",
      "<class 'mediapipe.python.solution_base.SolutionOutputs'>\n",
      "<class 'mediapipe.python.solution_base.SolutionOutputs'>\n",
      "<class 'mediapipe.python.solution_base.SolutionOutputs'>\n",
      "<class 'mediapipe.python.solution_base.SolutionOutputs'>\n",
      "<class 'mediapipe.python.solution_base.SolutionOutputs'>\n",
      "<class 'mediapipe.python.solution_base.SolutionOutputs'>\n",
      "<class 'mediapipe.python.solution_base.SolutionOutputs'>\n",
      "<class 'mediapipe.python.solution_base.SolutionOutputs'>\n",
      "<class 'mediapipe.python.solution_base.SolutionOutputs'>\n",
      "<class 'mediapipe.python.solution_base.SolutionOutputs'>\n",
      "<class 'mediapipe.python.solution_base.SolutionOutputs'>\n",
      "<class 'mediapipe.python.solution_base.SolutionOutputs'>\n",
      "<class 'mediapipe.python.solution_base.SolutionOutputs'>\n",
      "<class 'mediapipe.python.solution_base.SolutionOutputs'>\n",
      "<class 'mediapipe.python.solution_base.SolutionOutputs'>\n",
      "<class 'mediapipe.python.solution_base.SolutionOutputs'>\n",
      "<class 'mediapipe.python.solution_base.SolutionOutputs'>\n",
      "<class 'mediapipe.python.solution_base.SolutionOutputs'>\n",
      "<class 'mediapipe.python.solution_base.SolutionOutputs'>\n",
      "<class 'mediapipe.python.solution_base.SolutionOutputs'>\n",
      "<class 'mediapipe.python.solution_base.SolutionOutputs'>\n",
      "<class 'mediapipe.python.solution_base.SolutionOutputs'>\n",
      "<class 'mediapipe.python.solution_base.SolutionOutputs'>\n",
      "<class 'mediapipe.python.solution_base.SolutionOutputs'>\n",
      "<class 'mediapipe.python.solution_base.SolutionOutputs'>\n",
      "<class 'mediapipe.python.solution_base.SolutionOutputs'>\n",
      "<class 'mediapipe.python.solution_base.SolutionOutputs'>\n",
      "<class 'mediapipe.python.solution_base.SolutionOutputs'>\n",
      "<class 'mediapipe.python.solution_base.SolutionOutputs'>\n",
      "<class 'mediapipe.python.solution_base.SolutionOutputs'>\n",
      "<class 'mediapipe.python.solution_base.SolutionOutputs'>\n",
      "<class 'mediapipe.python.solution_base.SolutionOutputs'>\n",
      "<class 'mediapipe.python.solution_base.SolutionOutputs'>\n",
      "<class 'mediapipe.python.solution_base.SolutionOutputs'>\n",
      "<class 'mediapipe.python.solution_base.SolutionOutputs'>\n",
      "<class 'mediapipe.python.solution_base.SolutionOutputs'>\n",
      "<class 'mediapipe.python.solution_base.SolutionOutputs'>\n",
      "<class 'mediapipe.python.solution_base.SolutionOutputs'>\n",
      "<class 'mediapipe.python.solution_base.SolutionOutputs'>\n",
      "<class 'mediapipe.python.solution_base.SolutionOutputs'>\n",
      "<class 'mediapipe.python.solution_base.SolutionOutputs'>\n",
      "<class 'mediapipe.python.solution_base.SolutionOutputs'>\n",
      "<class 'mediapipe.python.solution_base.SolutionOutputs'>\n",
      "<class 'mediapipe.python.solution_base.SolutionOutputs'>\n",
      "<class 'mediapipe.python.solution_base.SolutionOutputs'>\n",
      "<class 'mediapipe.python.solution_base.SolutionOutputs'>\n",
      "<class 'mediapipe.python.solution_base.SolutionOutputs'>\n",
      "<class 'mediapipe.python.solution_base.SolutionOutputs'>\n",
      "<class 'mediapipe.python.solution_base.SolutionOutputs'>\n",
      "<class 'mediapipe.python.solution_base.SolutionOutputs'>\n",
      "<class 'mediapipe.python.solution_base.SolutionOutputs'>\n",
      "<class 'mediapipe.python.solution_base.SolutionOutputs'>\n",
      "<class 'mediapipe.python.solution_base.SolutionOutputs'>\n",
      "<class 'mediapipe.python.solution_base.SolutionOutputs'>\n",
      "<class 'mediapipe.python.solution_base.SolutionOutputs'>\n",
      "<class 'mediapipe.python.solution_base.SolutionOutputs'>\n",
      "<class 'mediapipe.python.solution_base.SolutionOutputs'>\n",
      "<class 'mediapipe.python.solution_base.SolutionOutputs'>\n",
      "<class 'mediapipe.python.solution_base.SolutionOutputs'>\n",
      "<class 'mediapipe.python.solution_base.SolutionOutputs'>\n",
      "<class 'mediapipe.python.solution_base.SolutionOutputs'>\n",
      "<class 'mediapipe.python.solution_base.SolutionOutputs'>\n",
      "<class 'mediapipe.python.solution_base.SolutionOutputs'>\n",
      "<class 'mediapipe.python.solution_base.SolutionOutputs'>\n",
      "<class 'mediapipe.python.solution_base.SolutionOutputs'>\n",
      "<class 'mediapipe.python.solution_base.SolutionOutputs'>\n",
      "<class 'mediapipe.python.solution_base.SolutionOutputs'>\n",
      "<class 'mediapipe.python.solution_base.SolutionOutputs'>\n",
      "<class 'mediapipe.python.solution_base.SolutionOutputs'>\n",
      "<class 'mediapipe.python.solution_base.SolutionOutputs'>\n",
      "<class 'mediapipe.python.solution_base.SolutionOutputs'>\n",
      "<class 'mediapipe.python.solution_base.SolutionOutputs'>\n",
      "<class 'mediapipe.python.solution_base.SolutionOutputs'>\n",
      "<class 'mediapipe.python.solution_base.SolutionOutputs'>\n",
      "<class 'mediapipe.python.solution_base.SolutionOutputs'>\n",
      "<class 'mediapipe.python.solution_base.SolutionOutputs'>\n",
      "<class 'mediapipe.python.solution_base.SolutionOutputs'>\n",
      "<class 'mediapipe.python.solution_base.SolutionOutputs'>\n",
      "<class 'mediapipe.python.solution_base.SolutionOutputs'>\n",
      "<class 'mediapipe.python.solution_base.SolutionOutputs'>\n",
      "<class 'mediapipe.python.solution_base.SolutionOutputs'>\n",
      "<class 'mediapipe.python.solution_base.SolutionOutputs'>\n",
      "<class 'mediapipe.python.solution_base.SolutionOutputs'>\n",
      "<class 'mediapipe.python.solution_base.SolutionOutputs'>\n",
      "<class 'mediapipe.python.solution_base.SolutionOutputs'>\n",
      "<class 'mediapipe.python.solution_base.SolutionOutputs'>\n",
      "<class 'mediapipe.python.solution_base.SolutionOutputs'>\n",
      "<class 'mediapipe.python.solution_base.SolutionOutputs'>\n",
      "<class 'mediapipe.python.solution_base.SolutionOutputs'>\n",
      "<class 'mediapipe.python.solution_base.SolutionOutputs'>\n",
      "<class 'mediapipe.python.solution_base.SolutionOutputs'>\n",
      "<class 'mediapipe.python.solution_base.SolutionOutputs'>\n",
      "<class 'mediapipe.python.solution_base.SolutionOutputs'>\n",
      "<class 'mediapipe.python.solution_base.SolutionOutputs'>\n",
      "<class 'mediapipe.python.solution_base.SolutionOutputs'>\n",
      "<class 'mediapipe.python.solution_base.SolutionOutputs'>\n",
      "<class 'mediapipe.python.solution_base.SolutionOutputs'>\n",
      "<class 'mediapipe.python.solution_base.SolutionOutputs'>\n",
      "<class 'mediapipe.python.solution_base.SolutionOutputs'>\n",
      "<class 'mediapipe.python.solution_base.SolutionOutputs'>\n",
      "<class 'mediapipe.python.solution_base.SolutionOutputs'>\n",
      "<class 'mediapipe.python.solution_base.SolutionOutputs'>\n",
      "<class 'mediapipe.python.solution_base.SolutionOutputs'>\n",
      "<class 'mediapipe.python.solution_base.SolutionOutputs'>\n",
      "<class 'mediapipe.python.solution_base.SolutionOutputs'>\n",
      "<class 'mediapipe.python.solution_base.SolutionOutputs'>\n",
      "<class 'mediapipe.python.solution_base.SolutionOutputs'>\n",
      "<class 'mediapipe.python.solution_base.SolutionOutputs'>\n",
      "<class 'mediapipe.python.solution_base.SolutionOutputs'>\n",
      "<class 'mediapipe.python.solution_base.SolutionOutputs'>\n",
      "<class 'mediapipe.python.solution_base.SolutionOutputs'>\n",
      "<class 'mediapipe.python.solution_base.SolutionOutputs'>\n",
      "<class 'mediapipe.python.solution_base.SolutionOutputs'>\n",
      "<class 'mediapipe.python.solution_base.SolutionOutputs'>\n",
      "<class 'mediapipe.python.solution_base.SolutionOutputs'>\n",
      "<class 'mediapipe.python.solution_base.SolutionOutputs'>\n",
      "<class 'mediapipe.python.solution_base.SolutionOutputs'>\n",
      "<class 'mediapipe.python.solution_base.SolutionOutputs'>\n",
      "<class 'mediapipe.python.solution_base.SolutionOutputs'>\n",
      "<class 'mediapipe.python.solution_base.SolutionOutputs'>\n",
      "<class 'mediapipe.python.solution_base.SolutionOutputs'>\n",
      "<class 'mediapipe.python.solution_base.SolutionOutputs'>\n",
      "<class 'mediapipe.python.solution_base.SolutionOutputs'>\n",
      "<class 'mediapipe.python.solution_base.SolutionOutputs'>\n",
      "<class 'mediapipe.python.solution_base.SolutionOutputs'>\n",
      "<class 'mediapipe.python.solution_base.SolutionOutputs'>\n"
     ]
    }
   ],
   "source": [
    "cap = cv2.VideoCapture(0)\n",
    "# Set mediapipe model \n",
    "with mp_holistic.Holistic(min_detection_confidence=0.5, min_tracking_confidence=0.5) as holistic:\n",
    "    while cap.isOpened():\n",
    "\n",
    "        # Read feed\n",
    "        ret, frame = cap.read()\n",
    "\n",
    "        # Make detections\n",
    "        image, results = mediapipe_detection(frame, holistic)\n",
    "        print(results)\n",
    "        \n",
    "        # Draw landmarks\n",
    "        draw_styled_landmarks(image, results)\n",
    "\n",
    "        # Show to screen\n",
    "        cv2.imshow('OpenCV Feed', image)\n",
    "\n",
    "        # Break gracefully\n",
    "        if cv2.waitKey(10) & 0xFF == ord('q'):\n",
    "            break\n",
    "    cap.release()\n",
    "    cv2.destroyAllWindows()"
   ]
  },
  {
   "cell_type": "code",
   "execution_count": 28,
   "id": "97bc544d-51fe-4d13-8fda-bca3fa9cba49",
   "metadata": {},
   "outputs": [],
   "source": [
    "# 4. Testing"
   ]
  },
  {
   "cell_type": "code",
   "execution_count": 18,
   "id": "927f7dee-8461-4e45-bb22-f99c85e486cd",
   "metadata": {},
   "outputs": [
    {
     "data": {
      "text/plain": [
       "<matplotlib.image.AxesImage at 0x7fc39e74efa0>"
      ]
     },
     "execution_count": 18,
     "metadata": {},
     "output_type": "execute_result"
    },
    {
     "data": {
      "image/png": "[encoded data removed]",
      "text/plain": [
       "<Figure size 640x480 with 1 Axes>"
      ]
     },
     "metadata": {},
     "output_type": "display_data"
    }
   ],
   "source": [
    "plt.imshow(cv2.cvtColor(image , cv2.COLOR_BGR2RGB))"
   ]
  },
  {
   "cell_type": "code",
   "execution_count": 19,
   "id": "00c1aaef-28f3-4a35-ad6a-810e6c2cf156",
   "metadata": {},
   "outputs": [],
   "source": [
    "len(results.left_hand_landmarks.landmark)"
   ]
  },
  {
   "cell_type": "code",
   "execution_count": 15,
   "id": "eb8fb33c-8a4f-4ab2-81b7-150d558f7ac3",
   "metadata": {},
   "outputs": [],
   "source": [
    "pose = []\n",
    "for res in results.pose_landmarks.landmark:\n",
    "    test = np.array([res.x, res.y, res.z, res.visibility])\n",
    "    pose.append(test)"
   ]
  },
  {
   "cell_type": "code",
   "execution_count": 16,
   "id": "ede92ded-4f03-4bf2-8bd5-a5a2e5ed3cb1",
   "metadata": {},
   "outputs": [],
   "source": [
    "pose = np.array([[res.x, res.y, res.z, res.visibility] for res in results.pose_landmarks.landmark]).flatten() if results.pose_landmarks else np.zeros(132)\n",
    "face = np.array([[res.x, res.y, res.z] for res in results.face_landmarks.landmark]).flatten() if results.face_landmarks else np.zeros(1404)\n",
    "lh = np.array([[res.x, res.y, res.z] for res in results.left_hand_landmarks.landmark]).flatten() if results.left_hand_landmarks else np.zeros(21*3)\n",
    "rh = np.array([[res.x, res.y, res.z] for res in results.right_hand_landmarks.landmark]).flatten() if results.right_hand_landmarks else np.zeros(21*3)"
   ]
  },
  {
   "cell_type": "code",
   "execution_count": 17,
   "id": "13ac4d80-727a-4926-94c9-3462593e853f",
   "metadata": {},
   "outputs": [],
   "source": [
    "def extract_keypoints(results):\n",
    "    pose = np.array([[res.x, res.y, res.z, res.visibility] for res in results.pose_landmarks.landmark]).flatten() if results.pose_landmarks else np.zeros(33*4)\n",
    "    face = np.array([[res.x, res.y, res.z] for res in results.face_landmarks.landmark]).flatten() if results.face_landmarks else np.zeros(468*3)\n",
    "    lh = np.array([[res.x, res.y, res.z] for res in results.left_hand_landmarks.landmark]).flatten() if results.left_hand_landmarks else np.zeros(21*3)\n",
    "    rh = np.array([[res.x, res.y, res.z] for res in results.right_hand_landmarks.landmark]).flatten() if results.right_hand_landmarks else np.zeros(21*3)\n",
    "    return np.concatenate([pose, face, lh, rh])"
   ]
  },
  {
   "cell_type": "code",
   "execution_count": 23,
   "id": "7d4dfa11-5773-4cf8-9665-2ee7fd42cb10",
   "metadata": {},
   "outputs": [],
   "source": [
    "result_test = extract_keypoints(results)"
   ]
  },
  {
   "cell_type": "code",
   "execution_count": 24,
   "id": "b00a87b0-ebce-45c5-82bc-c89a12d7b107",
   "metadata": {},
   "outputs": [
    {
     "data": {
      "text/plain": [
       "array([ 0.58626914,  0.50860459, -0.77407092, ...,  0.        ,\n",
       "        0.        ,  0.        ])"
      ]
     },
     "execution_count": 24,
     "metadata": {},
     "output_type": "execute_result"
    }
   ],
   "source": [
    "result_test"
   ]
  },
  {
   "cell_type": "code",
   "execution_count": 25,
   "id": "096748fe-23b6-4387-9af8-4eed86c6ea58",
   "metadata": {},
   "outputs": [],
   "source": [
    "np.save('0', result_test)"
   ]
  },
  {
   "cell_type": "code",
   "execution_count": 26,
   "id": "fe1ea891-31f4-4e37-a751-e64f55e82afe",
   "metadata": {},
   "outputs": [
    {
     "data": {
      "text/plain": [
       "array([ 0.58626914,  0.50860459, -0.77407092, ...,  0.        ,\n",
       "        0.        ,  0.        ])"
      ]
     },
     "execution_count": 26,
     "metadata": {},
     "output_type": "execute_result"
    }
   ],
   "source": [
    "np.load('0.npy')"
   ]
  },
  {
   "cell_type": "code",
   "execution_count": 29,
   "id": "6cf48acc-17c5-444e-9d78-718b98356ec8",
   "metadata": {},
   "outputs": [],
   "source": [
    "# 5. Assigning Dataset Path"
   ]
  },
  {
   "cell_type": "code",
   "execution_count": 22,
   "id": "5421c36c-a681-4dd8-bb5a-4995edd5696b",
   "metadata": {},
   "outputs": [],
   "source": [
    "# Assigning path for Urdu Sign Dataset of 10 words\n",
    "# Path for exported data, numpy arrays\n",
    "DATA_PATH = os.path.join('Urdu_Sign_Dataset_10_words') \n",
    "\n",
    "# Actions that we try to detect\n",
    "actions = np.array(['ao', 'alvidah', 'bura', 'larna', 'kaisay', 'mohabat', 'moazrat', 'nahi', 'neend', 'subah'])\n",
    "\n",
    "# Thirty videos worth of data\n",
    "no_sequences = 30\n",
    "\n",
    "# Videos are going to be 30 frames in length\n",
    "sequence_length = 30\n",
    "\n",
    "# Folder start\n",
    "start_folder = 30"
   ]
  },
  {
   "cell_type": "code",
   "execution_count": 26,
   "id": "7ceab12e-188d-44a4-a660-d2bf2afce986",
   "metadata": {},
   "outputs": [],
   "source": [
    "# Assigning path for Urdu Sign Dataset of 3 words\n",
    "# Path for exported data, numpy arrays\n",
    "DATA_PATH = os.path.join('Urdu_Sign_Dataset_3_words') \n",
    "\n",
    "# Actions that we try to detect\n",
    "actions = np.array(['alvidah', 'bura', 'larna'])\n",
    "\n",
    "# Thirty videos worth of data\n",
    "no_sequences = 30\n",
    "\n",
    "# Videos are going to be 30 frames in length\n",
    "sequence_length = 30\n",
    "\n",
    "# Folder start\n",
    "start_folder = 30"
   ]
  },
  {
   "cell_type": "code",
   "execution_count": 27,
   "id": "262cc279-d291-4960-b04d-bf6f9a897b9a",
   "metadata": {},
   "outputs": [],
   "source": [
    "for action in actions: \n",
    "    for sequence in range(no_sequences):\n",
    "        try: \n",
    "            os.makedirs(os.path.join(DATA_PATH, action, str(sequence)))\n",
    "        except:\n",
    "            pass"
   ]
  },
  {
   "cell_type": "code",
   "execution_count": 30,
   "id": "85551ad3-13f2-4a29-bedf-4b8f4f3112f0",
   "metadata": {},
   "outputs": [],
   "source": [
    "# 6. Collecting Data"
   ]
  },
  {
   "cell_type": "code",
   "execution_count": 14,
   "id": "a3cf5b9c-989c-442a-9c43-585f4b3eea65",
   "metadata": {},
   "outputs": [],
   "source": [
    "cap = cv2.VideoCapture(0)\n",
    "# Set mediapipe model \n",
    "with mp_holistic.Holistic(min_detection_confidence=0.5, min_tracking_confidence=0.5) as holistic:\n",
    "    \n",
    "    # NEW LOOP\n",
    "    # Loop through actions\n",
    "    for action in actions:\n",
    "        # Loop through sequences aka videos\n",
    "        for sequence in range(no_sequences):\n",
    "            # Loop through video length aka sequence length\n",
    "            for frame_num in range(sequence_length):\n",
    "\n",
    "                # Read feed\n",
    "                ret, frame = cap.read()\n",
    "\n",
    "                # Make detections\n",
    "                image, results = mediapipe_detection(frame, holistic)\n",
    "\n",
    "                # Draw landmarks\n",
    "                draw_styled_landmarks(image, results)\n",
    "                \n",
    "                # NEW Apply wait logic\n",
    "                if frame_num == 0: \n",
    "                    cv2.putText(image, 'STARTING COLLECTION', (120,200), \n",
    "                               cv2.FONT_HERSHEY_SIMPLEX, 1, (0,255, 0), 4, cv2.LINE_AA)\n",
    "                    cv2.putText(image, 'Collecting frames for {} Video Number {}'.format(action, sequence), (15,12), \n",
    "                               cv2.FONT_HERSHEY_SIMPLEX, 0.5, (0, 0, 255), 1, cv2.LINE_AA)\n",
    "                    # Show to screen\n",
    "                    cv2.imshow('OpenCV Feed', image)\n",
    "                    cv2.waitKey(2000)\n",
    "                else: \n",
    "                    cv2.putText(image, 'Collecting frames for {} Video Number {}'.format(action, sequence), (15,12), \n",
    "                               cv2.FONT_HERSHEY_SIMPLEX, 0.5, (0, 0, 255), 1, cv2.LINE_AA)\n",
    "                    # Show to screen\n",
    "                    cv2.imshow('OpenCV Feed', image)\n",
    "                \n",
    "                # NEW Export keypoints\n",
    "                keypoints = extract_keypoints(results)\n",
    "                npy_path = os.path.join(DATA_PATH, action, str(sequence), str(frame_num))\n",
    "                np.save(npy_path, keypoints)\n",
    "\n",
    "                # Break gracefully\n",
    "                if cv2.waitKey(10) & 0xFF == ord('q'):\n",
    "                    break\n",
    "                    \n",
    "    cap.release()\n",
    "    cv2.destroyAllWindows() "
   ]
  },
  {
   "cell_type": "code",
   "execution_count": 15,
   "id": "60356132-a35c-4101-a117-66c7ecc9f91d",
   "metadata": {},
   "outputs": [],
   "source": [
    "cap.release()\n",
    "cv2.destroyAllWindows()"
   ]
  },
  {
   "cell_type": "code",
   "execution_count": 31,
   "id": "1e08a55d-d860-4014-a2b2-c0a8a4d3b8e0",
   "metadata": {},
   "outputs": [],
   "source": [
    "# 7. Installing remaining dependicies"
   ]
  },
  {
   "cell_type": "code",
   "execution_count": 3,
   "id": "dd3d951c-6c2a-4fd0-b7b2-bc26702302db",
   "metadata": {},
   "outputs": [
    {
     "name": "stdout",
     "output_type": "stream",
     "text": [
      "Requirement already satisfied: pandas==1.2.5 in ./env/lib/python3.8/site-packages (1.2.5)\n",
      "Collecting scipy==1.6.0\n",
      "  Using cached scipy-1.6.0-cp38-cp38-macosx_10_9_x86_64.whl (30.7 MB)\n",
      "Requirement already satisfied: python-dateutil>=2.7.3 in ./env/lib/python3.8/site-packages (from pandas==1.2.5) (2.8.2)\n",
      "Requirement already satisfied: pytz>=2017.3 in ./env/lib/python3.8/site-packages (from pandas==1.2.5) (2023.3.post1)\n",
      "Requirement already satisfied: numpy>=1.16.5 in ./env/lib/python3.8/site-packages (from pandas==1.2.5) (1.19.2)\n",
      "Requirement already satisfied: six>=1.5 in ./env/lib/python3.8/site-packages (from python-dateutil>=2.7.3->pandas==1.2.5) (1.15.0)\n",
      "Installing collected packages: scipy\n",
      "  Attempting uninstall: scipy\n",
      "    Found existing installation: scipy 1.10.1\n",
      "    Uninstalling scipy-1.10.1:\n",
      "      Successfully uninstalled scipy-1.10.1\n",
      "Successfully installed scipy-1.6.0\n",
      "Note: you may need to restart the kernel to use updated packages.\n"
     ]
    }
   ],
   "source": [
    "pip install pandas==1.2.5 scipy==1.6.0"
   ]
  },
  {
   "cell_type": "code",
   "execution_count": 4,
   "id": "d7f3115a-7158-4652-a70f-7ebe398a751a",
   "metadata": {},
   "outputs": [
    {
     "name": "stdout",
     "output_type": "stream",
     "text": [
      "Requirement already satisfied: numpy==1.19.2 in ./env/lib/python3.8/site-packages (1.19.2)\n",
      "Note: you may need to restart the kernel to use updated packages.\n"
     ]
    }
   ],
   "source": [
    "pip install numpy==1.19.2"
   ]
  },
  {
   "cell_type": "code",
   "execution_count": 5,
   "id": "0b1b59d1-63bd-49d5-aee9-8ea2fe2e9fa0",
   "metadata": {},
   "outputs": [
    {
     "name": "stdout",
     "output_type": "stream",
     "text": [
      "Collecting scikit-learn\n",
      "  Using cached scikit_learn-1.3.2-cp38-cp38-macosx_10_9_x86_64.whl.metadata (11 kB)\n",
      "Collecting numpy<2.0,>=1.17.3 (from scikit-learn)\n",
      "  Using cached numpy-1.24.4-cp38-cp38-macosx_10_9_x86_64.whl.metadata (5.6 kB)\n",
      "Collecting scipy>=1.5.0 (from scikit-learn)\n",
      "  Using cached scipy-1.10.1-cp38-cp38-macosx_10_9_x86_64.whl (35.0 MB)\n",
      "Collecting joblib>=1.1.1 (from scikit-learn)\n",
      "  Using cached joblib-1.3.2-py3-none-any.whl.metadata (5.4 kB)\n",
      "Collecting threadpoolctl>=2.0.0 (from scikit-learn)\n",
      "  Using cached threadpoolctl-3.2.0-py3-none-any.whl.metadata (10.0 kB)\n",
      "Using cached scikit_learn-1.3.2-cp38-cp38-macosx_10_9_x86_64.whl (10.1 MB)\n",
      "Using cached joblib-1.3.2-py3-none-any.whl (302 kB)\n",
      "Using cached numpy-1.24.4-cp38-cp38-macosx_10_9_x86_64.whl (19.8 MB)\n",
      "Using cached threadpoolctl-3.2.0-py3-none-any.whl (15 kB)\n",
      "Installing collected packages: threadpoolctl, numpy, joblib, scipy, scikit-learn\n",
      "  Attempting uninstall: threadpoolctl\n",
      "    Found existing installation: threadpoolctl 3.2.0\n",
      "    Uninstalling threadpoolctl-3.2.0:\n",
      "      Successfully uninstalled threadpoolctl-3.2.0\n",
      "  Attempting uninstall: numpy\n",
      "    Found existing installation: numpy 1.19.2\n",
      "    Uninstalling numpy-1.19.2:\n",
      "      Successfully uninstalled numpy-1.19.2\n",
      "  Attempting uninstall: joblib\n",
      "    Found existing installation: joblib 1.3.2\n",
      "    Uninstalling joblib-1.3.2:\n",
      "      Successfully uninstalled joblib-1.3.2\n",
      "  Attempting uninstall: scipy\n",
      "    Found existing installation: scipy 1.6.0\n",
      "    Uninstalling scipy-1.6.0:\n",
      "      Successfully uninstalled scipy-1.6.0\n",
      "  Attempting uninstall: scikit-learn\n",
      "    Found existing installation: scikit-learn 1.3.2\n",
      "    Uninstalling scikit-learn-1.3.2:\n",
      "      Successfully uninstalled scikit-learn-1.3.2\n",
      "\u001b[31mERROR: pip's dependency resolver does not currently take into account all the packages that are installed. This behaviour is the source of the following dependency conflicts.\n",
      "tensorflow 2.4.1 requires numpy~=1.19.2, but you have numpy 1.24.4 which is incompatible.\u001b[0m\u001b[31m\n",
      "\u001b[0mSuccessfully installed joblib-1.3.2 numpy-1.24.4 scikit-learn-1.3.2 scipy-1.10.1 threadpoolctl-3.2.0\n",
      "Note: you may need to restart the kernel to use updated packages.\n"
     ]
    }
   ],
   "source": [
    "pip install --force-reinstall scikit-learn"
   ]
  },
  {
   "cell_type": "code",
   "execution_count": 32,
   "id": "d4d4d688-8666-4e1e-bbcb-dd288463b192",
   "metadata": {},
   "outputs": [],
   "source": [
    "# 8. Importing Libraries for working on dataset and model"
   ]
  },
  {
   "cell_type": "code",
   "execution_count": 33,
   "id": "482f98af-3795-4fb6-9a9d-a2a6d1a765f7",
   "metadata": {},
   "outputs": [],
   "source": [
    "from sklearn.model_selection import train_test_split\n",
    "from tensorflow.keras.utils import to_categorical"
   ]
  },
  {
   "cell_type": "code",
   "execution_count": 34,
   "id": "fc08a10e-c325-4bf8-9f19-9d54983e8807",
   "metadata": {},
   "outputs": [],
   "source": [
    "label_map = {label:num for num, label in enumerate(actions)}"
   ]
  },
  {
   "cell_type": "code",
   "execution_count": 35,
   "id": "8b9baeac-ad90-4d41-adbc-68de88cce107",
   "metadata": {},
   "outputs": [
    {
     "data": {
      "text/plain": [
       "{'alvidah': 0, 'bura': 1, 'larna': 2}"
      ]
     },
     "execution_count": 35,
     "metadata": {},
     "output_type": "execute_result"
    }
   ],
   "source": [
    "label_map"
   ]
  },
  {
   "cell_type": "code",
   "execution_count": 39,
   "id": "3979cd57-acbb-4ad5-8ca9-43e2891adf03",
   "metadata": {},
   "outputs": [],
   "source": [
    "# 9. Making frames of seuqnces"
   ]
  },
  {
   "cell_type": "code",
   "execution_count": 36,
   "id": "0cdfad67-9bec-473c-bf18-e752677e8ff2",
   "metadata": {},
   "outputs": [],
   "source": [
    "sequences, labels = [], []\n",
    "for action in actions:\n",
    "    for sequence in range(no_sequences):\n",
    "        window = []\n",
    "        for frame_num in range(sequence_length):\n",
    "            res = np.load(os.path.join(DATA_PATH, action, str(sequence), \"{}.npy\".format(frame_num)))\n",
    "            window.append(res)\n",
    "        sequences.append(window)\n",
    "        labels.append(label_map[action])"
   ]
  },
  {
   "cell_type": "code",
   "execution_count": 44,
   "id": "3a6164ee-f501-4f6f-9fff-d8ab61cc3d28",
   "metadata": {},
   "outputs": [],
   "source": [
    "# Testing"
   ]
  },
  {
   "cell_type": "code",
   "execution_count": 37,
   "id": "8b390b65-d356-4adf-b0be-648a6eb6a7ab",
   "metadata": {},
   "outputs": [
    {
     "data": {
      "text/plain": [
       "(90, 30, 1662)"
      ]
     },
     "execution_count": 37,
     "metadata": {},
     "output_type": "execute_result"
    }
   ],
   "source": [
    "np.array(sequences).shape"
   ]
  },
  {
   "cell_type": "code",
   "execution_count": 38,
   "id": "a680e311-21c6-433b-9f26-24e474ef3bdb",
   "metadata": {},
   "outputs": [
    {
     "data": {
      "text/plain": [
       "(90,)"
      ]
     },
     "execution_count": 38,
     "metadata": {},
     "output_type": "execute_result"
    }
   ],
   "source": [
    "np.array(labels).shape"
   ]
  },
  {
   "cell_type": "code",
   "execution_count": 40,
   "id": "ef6f08c2-04e1-4e31-9261-1a1a59072d72",
   "metadata": {},
   "outputs": [],
   "source": [
    "X = np.array(sequences)"
   ]
  },
  {
   "cell_type": "code",
   "execution_count": 41,
   "id": "bc2b784e-f368-41ac-8415-e2fea99bc492",
   "metadata": {},
   "outputs": [
    {
     "data": {
      "text/plain": [
       "(90, 30, 1662)"
      ]
     },
     "execution_count": 41,
     "metadata": {},
     "output_type": "execute_result"
    }
   ],
   "source": [
    "X.shape"
   ]
  },
  {
   "cell_type": "code",
   "execution_count": 42,
   "id": "ad6fae24-5f94-421c-95a7-a0a0f086ff5f",
   "metadata": {},
   "outputs": [],
   "source": [
    "y = to_categorical(labels).astype(int)"
   ]
  },
  {
   "cell_type": "code",
   "execution_count": 43,
   "id": "4bf7d33b-3c8d-4f3d-9b73-12be76359c7b",
   "metadata": {},
   "outputs": [
    {
     "data": {
      "text/plain": [
       "array([[1, 0, 0],\n",
       "       [1, 0, 0],\n",
       "       [1, 0, 0],\n",
       "       [1, 0, 0],\n",
       "       [1, 0, 0],\n",
       "       [1, 0, 0],\n",
       "       [1, 0, 0],\n",
       "       [1, 0, 0],\n",
       "       [1, 0, 0],\n",
       "       [1, 0, 0],\n",
       "       [1, 0, 0],\n",
       "       [1, 0, 0],\n",
       "       [1, 0, 0],\n",
       "       [1, 0, 0],\n",
       "       [1, 0, 0],\n",
       "       [1, 0, 0],\n",
       "       [1, 0, 0],\n",
       "       [1, 0, 0],\n",
       "       [1, 0, 0],\n",
       "       [1, 0, 0],\n",
       "       [1, 0, 0],\n",
       "       [1, 0, 0],\n",
       "       [1, 0, 0],\n",
       "       [1, 0, 0],\n",
       "       [1, 0, 0],\n",
       "       [1, 0, 0],\n",
       "       [1, 0, 0],\n",
       "       [1, 0, 0],\n",
       "       [1, 0, 0],\n",
       "       [1, 0, 0],\n",
       "       [0, 1, 0],\n",
       "       [0, 1, 0],\n",
       "       [0, 1, 0],\n",
       "       [0, 1, 0],\n",
       "       [0, 1, 0],\n",
       "       [0, 1, 0],\n",
       "       [0, 1, 0],\n",
       "       [0, 1, 0],\n",
       "       [0, 1, 0],\n",
       "       [0, 1, 0],\n",
       "       [0, 1, 0],\n",
       "       [0, 1, 0],\n",
       "       [0, 1, 0],\n",
       "       [0, 1, 0],\n",
       "       [0, 1, 0],\n",
       "       [0, 1, 0],\n",
       "       [0, 1, 0],\n",
       "       [0, 1, 0],\n",
       "       [0, 1, 0],\n",
       "       [0, 1, 0],\n",
       "       [0, 1, 0],\n",
       "       [0, 1, 0],\n",
       "       [0, 1, 0],\n",
       "       [0, 1, 0],\n",
       "       [0, 1, 0],\n",
       "       [0, 1, 0],\n",
       "       [0, 1, 0],\n",
       "       [0, 1, 0],\n",
       "       [0, 1, 0],\n",
       "       [0, 1, 0],\n",
       "       [0, 0, 1],\n",
       "       [0, 0, 1],\n",
       "       [0, 0, 1],\n",
       "       [0, 0, 1],\n",
       "       [0, 0, 1],\n",
       "       [0, 0, 1],\n",
       "       [0, 0, 1],\n",
       "       [0, 0, 1],\n",
       "       [0, 0, 1],\n",
       "       [0, 0, 1],\n",
       "       [0, 0, 1],\n",
       "       [0, 0, 1],\n",
       "       [0, 0, 1],\n",
       "       [0, 0, 1],\n",
       "       [0, 0, 1],\n",
       "       [0, 0, 1],\n",
       "       [0, 0, 1],\n",
       "       [0, 0, 1],\n",
       "       [0, 0, 1],\n",
       "       [0, 0, 1],\n",
       "       [0, 0, 1],\n",
       "       [0, 0, 1],\n",
       "       [0, 0, 1],\n",
       "       [0, 0, 1],\n",
       "       [0, 0, 1],\n",
       "       [0, 0, 1],\n",
       "       [0, 0, 1],\n",
       "       [0, 0, 1],\n",
       "       [0, 0, 1],\n",
       "       [0, 0, 1]])"
      ]
     },
     "execution_count": 43,
     "metadata": {},
     "output_type": "execute_result"
    }
   ],
   "source": [
    "y"
   ]
  },
  {
   "cell_type": "code",
   "execution_count": 45,
   "id": "97017114-ecca-4cd6-b7bf-b0ce955e5970",
   "metadata": {},
   "outputs": [],
   "source": [
    "# 10. Data Splitting"
   ]
  },
  {
   "cell_type": "code",
   "execution_count": 46,
   "id": "29a5d879-b2b4-4804-ba48-208f82d6f387",
   "metadata": {},
   "outputs": [],
   "source": [
    "X_train, X_test, y_train, y_test = train_test_split(X, y, test_size=0.05)"
   ]
  },
  {
   "cell_type": "code",
   "execution_count": 47,
   "id": "93253d03-0cd5-4bd6-8984-e3823f4a3617",
   "metadata": {},
   "outputs": [
    {
     "data": {
      "text/plain": [
       "(5, 3)"
      ]
     },
     "execution_count": 47,
     "metadata": {},
     "output_type": "execute_result"
    }
   ],
   "source": [
    "y_test.shape"
   ]
  },
  {
   "cell_type": "code",
   "execution_count": 51,
   "id": "7ba35547-ad1d-4588-a405-2b56ecdac6e8",
   "metadata": {},
   "outputs": [],
   "source": [
    "# 11. Building Model"
   ]
  },
  {
   "cell_type": "code",
   "execution_count": 49,
   "id": "a57d93d5-57df-4731-963f-479d6dd00daa",
   "metadata": {},
   "outputs": [],
   "source": [
    "from tensorflow.keras.models import Sequential\n",
    "from tensorflow.keras.layers import LSTM, Dense\n",
    "from tensorflow.keras.callbacks import TensorBoard"
   ]
  },
  {
   "cell_type": "code",
   "execution_count": 58,
   "id": "5601e130-f98f-4600-a3ed-45d286237da1",
   "metadata": {},
   "outputs": [
    {
     "name": "stderr",
     "output_type": "stream",
     "text": [
      "2024-02-16 16:11:50.323748: I tensorflow/core/profiler/lib/profiler_session.cc:136] Profiler session initializing.\n",
      "2024-02-16 16:11:50.323766: I tensorflow/core/profiler/lib/profiler_session.cc:155] Profiler session started.\n",
      "2024-02-16 16:11:50.323792: I tensorflow/core/profiler/lib/profiler_session.cc:172] Profiler session tear down.\n"
     ]
    }
   ],
   "source": [
    "log_dir = os.path.join('Logs')\n",
    "tb_callback = TensorBoard(log_dir=log_dir)"
   ]
  },
  {
   "cell_type": "code",
   "execution_count": 54,
   "id": "636a2555-01d7-4def-a8b6-2045414b8e7b",
   "metadata": {},
   "outputs": [],
   "source": [
    "# 12. Model Selection"
   ]
  },
  {
   "cell_type": "code",
   "execution_count": 59,
   "id": "7336b5f0-34e5-43c9-8b92-790c414d164d",
   "metadata": {},
   "outputs": [],
   "source": [
    "model = Sequential()\n",
    "model.add(LSTM(64, return_sequences=True, activation='relu', input_shape=(30,1662)))\n",
    "model.add(LSTM(128, return_sequences=True, activation='relu'))\n",
    "model.add(LSTM(64, return_sequences=False, activation='relu')) \n",
    "model.add(Dense(64, activation='relu'))\n",
    "model.add(Dense(32, activation='relu'))\n",
    "model.add(Dense(actions.shape[0], activation='softmax'))"
   ]
  },
  {
   "cell_type": "code",
   "execution_count": 55,
   "id": "242a841f-10af-42ba-9a11-76bc44707511",
   "metadata": {},
   "outputs": [],
   "source": [
    "# 13. Model Training"
   ]
  },
  {
   "cell_type": "code",
   "execution_count": 60,
   "id": "520b4904-f5f1-43bc-9f1f-4bd0e8644c9d",
   "metadata": {},
   "outputs": [],
   "source": [
    "model.compile(optimizer='Adam', loss='categorical_crossentropy', metrics=['categorical_accuracy'])"
   ]
  },
  {
   "cell_type": "code",
   "execution_count": 61,
   "id": "f031b80f-12bc-4601-84c4-314fe0c97de8",
   "metadata": {},
   "outputs": [
    {
     "name": "stderr",
     "output_type": "stream",
     "text": [
      "2024-02-16 16:11:59.088397: I tensorflow/compiler/mlir/mlir_graph_optimization_pass.cc:116] None of the MLIR optimization passes are enabled (registered 2)\n"
     ]
    },
    {
     "name": "stdout",
     "output_type": "stream",
     "text": [
      "Epoch 1/2000\n",
      "2/3 [===================>..........] - ETA: 0s - loss: 1.2137 - categorical_accuracy: 0.2969"
     ]
    },
    {
     "name": "stderr",
     "output_type": "stream",
     "text": [
      "2024-02-16 16:12:01.661765: I tensorflow/core/profiler/lib/profiler_session.cc:136] Profiler session initializing.\n",
      "2024-02-16 16:12:01.661782: I tensorflow/core/profiler/lib/profiler_session.cc:155] Profiler session started.\n",
      "2024-02-16 16:12:01.743421: I tensorflow/core/profiler/lib/profiler_session.cc:71] Profiler session collecting data.\n",
      "2024-02-16 16:12:01.812278: I tensorflow/core/profiler/lib/profiler_session.cc:172] Profiler session tear down.\n",
      "2024-02-16 16:12:01.909997: I tensorflow/core/profiler/rpc/client/save_profile.cc:137] Creating directory: Logs/train/plugins/profile/2024_02_16_16_12_01\n",
      "2024-02-16 16:12:01.939200: I tensorflow/core/profiler/rpc/client/save_profile.cc:143] Dumped gzipped tool data for trace.json.gz to Logs/train/plugins/profile/2024_02_16_16_12_01/192.168.1.22.trace.json.gz\n",
      "2024-02-16 16:12:01.975598: I tensorflow/core/profiler/rpc/client/save_profile.cc:137] Creating directory: Logs/train/plugins/profile/2024_02_16_16_12_01\n",
      "2024-02-16 16:12:01.975897: I tensorflow/core/profiler/rpc/client/save_profile.cc:143] Dumped gzipped tool data for memory_profile.json.gz to Logs/train/plugins/profile/2024_02_16_16_12_01/192.168.1.22.memory_profile.json.gz\n",
      "2024-02-16 16:12:01.979079: I tensorflow/core/profiler/rpc/client/capture_profile.cc:251] Creating directory: Logs/train/plugins/profile/2024_02_16_16_12_01Dumped tool data for xplane.pb to Logs/train/plugins/profile/2024_02_16_16_12_01/192.168.1.22.xplane.pb\n",
      "Dumped tool data for overview_page.pb to Logs/train/plugins/profile/2024_02_16_16_12_01/192.168.1.22.overview_page.pb\n",
      "Dumped tool data for input_pipeline.pb to Logs/train/plugins/profile/2024_02_16_16_12_01/192.168.1.22.input_pipeline.pb\n",
      "Dumped tool data for tensorflow_stats.pb to Logs/train/plugins/profile/2024_02_16_16_12_01/192.168.1.22.tensorflow_stats.pb\n",
      "Dumped tool data for kernel_stats.pb to Logs/train/plugins/profile/2024_02_16_16_12_01/192.168.1.22.kernel_stats.pb\n",
      "\n"
     ]
    },
    {
     "name": "stdout",
     "output_type": "stream",
     "text": [
      "3/3 [==============================] - 3s 241ms/step - loss: 1.1888 - categorical_accuracy: 0.3190\n",
      "Epoch 2/2000\n",
      "3/3 [==============================] - 0s 78ms/step - loss: 2.3191 - categorical_accuracy: 0.3426\n",
      "Epoch 3/2000\n",
      "3/3 [==============================] - 0s 77ms/step - loss: 1.2279 - categorical_accuracy: 0.4012\n",
      "Epoch 4/2000\n",
      "3/3 [==============================] - 0s 77ms/step - loss: 1.7903 - categorical_accuracy: 0.4775\n",
      "Epoch 5/2000\n",
      "3/3 [==============================] - 0s 87ms/step - loss: 3.0552 - categorical_accuracy: 0.2662\n",
      "Epoch 6/2000\n",
      "3/3 [==============================] - 0s 95ms/step - loss: 1.7288 - categorical_accuracy: 0.3503\n",
      "Epoch 7/2000\n",
      "3/3 [==============================] - 0s 124ms/step - loss: 1.2691 - categorical_accuracy: 0.3425\n",
      "Epoch 8/2000\n",
      "3/3 [==============================] - 0s 105ms/step - loss: 1.0927 - categorical_accuracy: 0.3229\n",
      "Epoch 9/2000\n",
      "3/3 [==============================] - 0s 95ms/step - loss: 1.1027 - categorical_accuracy: 0.3914\n",
      "Epoch 10/2000\n",
      "3/3 [==============================] - 0s 88ms/step - loss: 1.0526 - categorical_accuracy: 0.5401\n",
      "Epoch 11/2000\n",
      "3/3 [==============================] - 0s 91ms/step - loss: 0.9961 - categorical_accuracy: 0.5108\n",
      "Epoch 12/2000\n",
      "3/3 [==============================] - 0s 80ms/step - loss: 0.8940 - categorical_accuracy: 0.6085\n",
      "Epoch 13/2000\n",
      "3/3 [==============================] - 0s 77ms/step - loss: 0.8636 - categorical_accuracy: 0.5500\n",
      "Epoch 14/2000\n",
      "3/3 [==============================] - 0s 74ms/step - loss: 1.1741 - categorical_accuracy: 0.5244\n",
      "Epoch 15/2000\n",
      "3/3 [==============================] - 0s 79ms/step - loss: 1.8615 - categorical_accuracy: 0.3718\n",
      "Epoch 16/2000\n",
      "3/3 [==============================] - 0s 77ms/step - loss: 1.5098 - categorical_accuracy: 0.2485\n",
      "Epoch 17/2000\n",
      "3/3 [==============================] - 0s 80ms/step - loss: 1.2051 - categorical_accuracy: 0.4227\n",
      "Epoch 18/2000\n",
      "3/3 [==============================] - 0s 77ms/step - loss: 1.1110 - categorical_accuracy: 0.5381\n",
      "Epoch 19/2000\n",
      "3/3 [==============================] - 0s 77ms/step - loss: 1.1442 - categorical_accuracy: 0.4482\n",
      "Epoch 20/2000\n",
      "3/3 [==============================] - 0s 128ms/step - loss: 0.8822 - categorical_accuracy: 0.6105\n",
      "Epoch 21/2000\n",
      "3/3 [==============================] - 0s 90ms/step - loss: 0.8397 - categorical_accuracy: 0.6028\n",
      "Epoch 22/2000\n",
      "3/3 [==============================] - 0s 104ms/step - loss: 0.8350 - categorical_accuracy: 0.5989\n",
      "Epoch 23/2000\n",
      "3/3 [==============================] - 0s 78ms/step - loss: 0.7458 - categorical_accuracy: 0.6125\n",
      "Epoch 24/2000\n",
      "3/3 [==============================] - 0s 100ms/step - loss: 0.7355 - categorical_accuracy: 0.6125\n",
      "Epoch 25/2000\n",
      "3/3 [==============================] - 0s 91ms/step - loss: 0.5753 - categorical_accuracy: 0.6594\n",
      "Epoch 26/2000\n",
      "3/3 [==============================] - 0s 82ms/step - loss: 0.5563 - categorical_accuracy: 0.6301\n",
      "Epoch 27/2000\n",
      "3/3 [==============================] - 0s 74ms/step - loss: 0.5605 - categorical_accuracy: 0.6614\n",
      "Epoch 28/2000\n",
      "3/3 [==============================] - 0s 83ms/step - loss: 0.5410 - categorical_accuracy: 0.6458\n",
      "Epoch 29/2000\n",
      "3/3 [==============================] - 0s 76ms/step - loss: 0.5154 - categorical_accuracy: 0.6477\n",
      "Epoch 30/2000\n",
      "3/3 [==============================] - 0s 81ms/step - loss: 0.4763 - categorical_accuracy: 0.7064\n",
      "Epoch 31/2000\n",
      "3/3 [==============================] - 0s 74ms/step - loss: 0.5004 - categorical_accuracy: 0.6732\n",
      "Epoch 32/2000\n",
      "3/3 [==============================] - 0s 95ms/step - loss: 0.5641 - categorical_accuracy: 0.6967\n",
      "Epoch 33/2000\n",
      "3/3 [==============================] - 0s 82ms/step - loss: 0.4569 - categorical_accuracy: 0.7084\n",
      "Epoch 34/2000\n",
      "3/3 [==============================] - 0s 115ms/step - loss: 0.5407 - categorical_accuracy: 0.6283\n",
      "Epoch 35/2000\n",
      "3/3 [==============================] - 0s 99ms/step - loss: 0.5517 - categorical_accuracy: 0.6575\n",
      "Epoch 36/2000\n",
      "3/3 [==============================] - 0s 91ms/step - loss: 0.4742 - categorical_accuracy: 0.6985\n",
      "Epoch 37/2000\n",
      "3/3 [==============================] - 0s 91ms/step - loss: 0.5671 - categorical_accuracy: 0.6144\n",
      "Epoch 38/2000\n",
      "3/3 [==============================] - 0s 93ms/step - loss: 0.5218 - categorical_accuracy: 0.6966\n",
      "Epoch 39/2000\n",
      "3/3 [==============================] - 1s 112ms/step - loss: 0.4996 - categorical_accuracy: 0.7005\n",
      "Epoch 40/2000\n",
      "3/3 [==============================] - 0s 103ms/step - loss: 0.5990 - categorical_accuracy: 0.6536\n",
      "Epoch 41/2000\n",
      "3/3 [==============================] - 0s 99ms/step - loss: 0.6745 - categorical_accuracy: 0.6125\n",
      "Epoch 42/2000\n",
      "3/3 [==============================] - 0s 93ms/step - loss: 0.5681 - categorical_accuracy: 0.7338\n",
      "Epoch 43/2000\n",
      "3/3 [==============================] - 0s 82ms/step - loss: 0.5493 - categorical_accuracy: 0.6830\n",
      "Epoch 44/2000\n",
      "3/3 [==============================] - 0s 72ms/step - loss: 0.6219 - categorical_accuracy: 0.6224\n",
      "Epoch 45/2000\n",
      "3/3 [==============================] - 0s 87ms/step - loss: 0.6691 - categorical_accuracy: 0.6262\n",
      "Epoch 46/2000\n",
      "3/3 [==============================] - 0s 69ms/step - loss: 0.6154 - categorical_accuracy: 0.6653\n",
      "Epoch 47/2000\n",
      "3/3 [==============================] - 0s 125ms/step - loss: 0.6817 - categorical_accuracy: 0.6145\n",
      "Epoch 48/2000\n",
      "3/3 [==============================] - 0s 148ms/step - loss: 0.5543 - categorical_accuracy: 0.6301\n",
      "Epoch 49/2000\n",
      "3/3 [==============================] - 0s 131ms/step - loss: 0.5525 - categorical_accuracy: 0.6321\n",
      "Epoch 50/2000\n",
      "3/3 [==============================] - 0s 97ms/step - loss: 0.8756 - categorical_accuracy: 0.5518\n",
      "Epoch 51/2000\n",
      "3/3 [==============================] - 0s 97ms/step - loss: 1.1941 - categorical_accuracy: 0.5500\n",
      "Epoch 52/2000\n",
      "3/3 [==============================] - 0s 79ms/step - loss: 0.7288 - categorical_accuracy: 0.6164\n",
      "Epoch 53/2000\n",
      "3/3 [==============================] - 0s 98ms/step - loss: 0.8089 - categorical_accuracy: 0.5675\n",
      "Epoch 54/2000\n",
      "3/3 [==============================] - 0s 75ms/step - loss: 0.7426 - categorical_accuracy: 0.6204\n",
      "Epoch 55/2000\n",
      "3/3 [==============================] - 0s 85ms/step - loss: 0.7403 - categorical_accuracy: 0.5696\n",
      "Epoch 56/2000\n",
      "3/3 [==============================] - 0s 76ms/step - loss: 0.6498 - categorical_accuracy: 0.6262\n",
      "Epoch 57/2000\n",
      "3/3 [==============================] - 0s 106ms/step - loss: 0.7205 - categorical_accuracy: 0.5656\n",
      "Epoch 58/2000\n",
      "3/3 [==============================] - 0s 100ms/step - loss: 0.6923 - categorical_accuracy: 0.5852\n",
      "Epoch 59/2000\n",
      "3/3 [==============================] - 0s 102ms/step - loss: 0.6477 - categorical_accuracy: 0.6262\n",
      "Epoch 60/2000\n",
      "3/3 [==============================] - 0s 76ms/step - loss: 0.6164 - categorical_accuracy: 0.6967\n",
      "Epoch 61/2000\n",
      "3/3 [==============================] - 0s 142ms/step - loss: 0.5567 - categorical_accuracy: 0.6751\n",
      "Epoch 62/2000\n",
      "3/3 [==============================] - 0s 91ms/step - loss: 0.5902 - categorical_accuracy: 0.6321\n",
      "Epoch 63/2000\n",
      "3/3 [==============================] - 0s 91ms/step - loss: 0.5863 - categorical_accuracy: 0.6027\n",
      "Epoch 64/2000\n",
      "3/3 [==============================] - 0s 101ms/step - loss: 0.5422 - categorical_accuracy: 0.6732\n",
      "Epoch 65/2000\n",
      "3/3 [==============================] - 0s 94ms/step - loss: 0.5760 - categorical_accuracy: 0.6731\n",
      "Epoch 66/2000\n",
      "3/3 [==============================] - 0s 74ms/step - loss: 0.5441 - categorical_accuracy: 0.6614\n",
      "Epoch 67/2000\n",
      "3/3 [==============================] - 0s 85ms/step - loss: 0.5702 - categorical_accuracy: 0.6517\n",
      "Epoch 68/2000\n",
      "3/3 [==============================] - 0s 78ms/step - loss: 0.5224 - categorical_accuracy: 0.6869\n",
      "Epoch 69/2000\n",
      "3/3 [==============================] - 0s 74ms/step - loss: 0.5468 - categorical_accuracy: 0.6986\n",
      "Epoch 70/2000\n",
      "3/3 [==============================] - 0s 72ms/step - loss: 0.5126 - categorical_accuracy: 0.6458\n",
      "Epoch 71/2000\n",
      "3/3 [==============================] - 0s 74ms/step - loss: 0.5273 - categorical_accuracy: 0.6262\n",
      "Epoch 72/2000\n",
      "3/3 [==============================] - 0s 76ms/step - loss: 0.4759 - categorical_accuracy: 0.7044\n",
      "Epoch 73/2000\n",
      "3/3 [==============================] - 0s 76ms/step - loss: 0.5128 - categorical_accuracy: 0.7065\n",
      "Epoch 74/2000\n",
      "3/3 [==============================] - 0s 73ms/step - loss: 0.4407 - categorical_accuracy: 0.7358\n",
      "Epoch 75/2000\n",
      "3/3 [==============================] - 0s 77ms/step - loss: 1.2510 - categorical_accuracy: 0.6869\n",
      "Epoch 76/2000\n",
      "3/3 [==============================] - 0s 110ms/step - loss: 1.0975 - categorical_accuracy: 0.5361\n",
      "Epoch 77/2000\n",
      "3/3 [==============================] - 0s 92ms/step - loss: 2.2061 - categorical_accuracy: 0.3640\n",
      "Epoch 78/2000\n",
      "3/3 [==============================] - 0s 85ms/step - loss: 1.3164 - categorical_accuracy: 0.3229\n",
      "Epoch 79/2000\n",
      "3/3 [==============================] - 0s 78ms/step - loss: 1.0994 - categorical_accuracy: 0.4521\n",
      "Epoch 80/2000\n",
      "3/3 [==============================] - 0s 77ms/step - loss: 1.1774 - categorical_accuracy: 0.4071\n",
      "Epoch 81/2000\n",
      "3/3 [==============================] - 0s 94ms/step - loss: 0.9685 - categorical_accuracy: 0.5010\n",
      "Epoch 82/2000\n",
      "3/3 [==============================] - 0s 92ms/step - loss: 1.0374 - categorical_accuracy: 0.6007\n",
      "Epoch 83/2000\n",
      "3/3 [==============================] - 0s 92ms/step - loss: 0.9317 - categorical_accuracy: 0.6262\n",
      "Epoch 84/2000\n",
      "3/3 [==============================] - 0s 85ms/step - loss: 0.9244 - categorical_accuracy: 0.6086\n",
      "Epoch 85/2000\n",
      "3/3 [==============================] - 0s 90ms/step - loss: 0.7967 - categorical_accuracy: 0.6106\n",
      "Epoch 86/2000\n",
      "3/3 [==============================] - 0s 85ms/step - loss: 0.7711 - categorical_accuracy: 0.5754\n",
      "Epoch 87/2000\n",
      "3/3 [==============================] - 0s 130ms/step - loss: 0.7039 - categorical_accuracy: 0.6321\n",
      "Epoch 88/2000\n",
      "3/3 [==============================] - 0s 75ms/step - loss: 0.7778 - categorical_accuracy: 0.5930\n",
      "Epoch 89/2000\n",
      "3/3 [==============================] - 0s 90ms/step - loss: 0.6890 - categorical_accuracy: 0.6909\n",
      "Epoch 90/2000\n",
      "3/3 [==============================] - 0s 88ms/step - loss: 0.8175 - categorical_accuracy: 0.5753\n",
      "Epoch 91/2000\n",
      "3/3 [==============================] - 0s 91ms/step - loss: 0.8131 - categorical_accuracy: 0.5852\n",
      "Epoch 92/2000\n",
      "3/3 [==============================] - 0s 81ms/step - loss: 0.6423 - categorical_accuracy: 0.7045\n",
      "Epoch 93/2000\n",
      "3/3 [==============================] - 0s 88ms/step - loss: 0.6541 - categorical_accuracy: 0.6106\n",
      "Epoch 94/2000\n",
      "3/3 [==============================] - 0s 87ms/step - loss: 0.7102 - categorical_accuracy: 0.5422\n",
      "Epoch 95/2000\n",
      "3/3 [==============================] - 0s 93ms/step - loss: 0.5920 - categorical_accuracy: 0.6966\n",
      "Epoch 96/2000\n",
      "3/3 [==============================] - 0s 78ms/step - loss: 0.6006 - categorical_accuracy: 0.6477\n",
      "Epoch 97/2000\n",
      "3/3 [==============================] - 0s 82ms/step - loss: 0.5757 - categorical_accuracy: 0.6614\n",
      "Epoch 98/2000\n",
      "3/3 [==============================] - 0s 97ms/step - loss: 0.6072 - categorical_accuracy: 0.6869\n",
      "Epoch 99/2000\n",
      "3/3 [==============================] - 0s 102ms/step - loss: 0.5684 - categorical_accuracy: 0.7456\n",
      "Epoch 100/2000\n",
      "3/3 [==============================] - 0s 78ms/step - loss: 0.5712 - categorical_accuracy: 0.7104\n",
      "Epoch 101/2000\n",
      "3/3 [==============================] - 0s 85ms/step - loss: 0.5386 - categorical_accuracy: 0.7025\n",
      "Epoch 102/2000\n",
      "3/3 [==============================] - 0s 72ms/step - loss: 0.5226 - categorical_accuracy: 0.7045\n",
      "Epoch 103/2000\n",
      "3/3 [==============================] - 0s 81ms/step - loss: 0.5120 - categorical_accuracy: 0.7456\n",
      "Epoch 104/2000\n",
      "3/3 [==============================] - 0s 81ms/step - loss: 0.4873 - categorical_accuracy: 0.7495\n",
      "Epoch 105/2000\n",
      "3/3 [==============================] - 0s 88ms/step - loss: 0.4883 - categorical_accuracy: 0.7456\n",
      "Epoch 106/2000\n",
      "3/3 [==============================] - 0s 101ms/step - loss: 0.9532 - categorical_accuracy: 0.6595\n",
      "Epoch 107/2000\n",
      "3/3 [==============================] - 0s 79ms/step - loss: 0.8472 - categorical_accuracy: 0.6635\n",
      "Epoch 108/2000\n",
      "3/3 [==============================] - 0s 92ms/step - loss: 0.6510 - categorical_accuracy: 0.6302\n",
      "Epoch 109/2000\n",
      "3/3 [==============================] - 0s 77ms/step - loss: 0.6337 - categorical_accuracy: 0.6614\n",
      "Epoch 110/2000\n",
      "3/3 [==============================] - 0s 105ms/step - loss: 0.5590 - categorical_accuracy: 0.7221\n",
      "Epoch 111/2000\n",
      "3/3 [==============================] - 0s 79ms/step - loss: 0.5888 - categorical_accuracy: 0.6712\n",
      "Epoch 112/2000\n",
      "3/3 [==============================] - 0s 82ms/step - loss: 0.6419 - categorical_accuracy: 0.6595\n",
      "Epoch 113/2000\n",
      "3/3 [==============================] - 0s 136ms/step - loss: 0.5711 - categorical_accuracy: 0.6947\n",
      "Epoch 114/2000\n",
      "3/3 [==============================] - 0s 86ms/step - loss: 0.5106 - categorical_accuracy: 0.7416\n",
      "Epoch 115/2000\n",
      "3/3 [==============================] - 0s 78ms/step - loss: 0.5397 - categorical_accuracy: 0.7318\n",
      "Epoch 116/2000\n",
      "3/3 [==============================] - 0s 90ms/step - loss: 0.5277 - categorical_accuracy: 0.7476\n",
      "Epoch 117/2000\n",
      "3/3 [==============================] - 0s 111ms/step - loss: 0.5213 - categorical_accuracy: 0.6927\n",
      "Epoch 118/2000\n",
      "3/3 [==============================] - 0s 110ms/step - loss: 0.5076 - categorical_accuracy: 0.7319\n",
      "Epoch 119/2000\n",
      "3/3 [==============================] - 0s 92ms/step - loss: 0.4643 - categorical_accuracy: 0.7945\n",
      "Epoch 120/2000\n",
      "3/3 [==============================] - 0s 88ms/step - loss: 0.5300 - categorical_accuracy: 0.6713\n",
      "Epoch 121/2000\n",
      "3/3 [==============================] - 0s 85ms/step - loss: 0.5100 - categorical_accuracy: 0.6733\n",
      "Epoch 122/2000\n",
      "3/3 [==============================] - 0s 106ms/step - loss: 0.4726 - categorical_accuracy: 0.7592\n",
      "Epoch 123/2000\n",
      "3/3 [==============================] - 0s 106ms/step - loss: 0.5354 - categorical_accuracy: 0.7455\n",
      "Epoch 124/2000\n",
      "3/3 [==============================] - 0s 86ms/step - loss: 0.6394 - categorical_accuracy: 0.6909\n",
      "Epoch 125/2000\n",
      "3/3 [==============================] - 0s 89ms/step - loss: 0.5134 - categorical_accuracy: 0.7163\n",
      "Epoch 126/2000\n",
      "3/3 [==============================] - 0s 83ms/step - loss: 0.4840 - categorical_accuracy: 0.7006\n",
      "Epoch 127/2000\n",
      "3/3 [==============================] - 0s 96ms/step - loss: 0.5706 - categorical_accuracy: 0.7279\n",
      "Epoch 128/2000\n",
      "3/3 [==============================] - 0s 95ms/step - loss: 0.4848 - categorical_accuracy: 0.7240\n",
      "Epoch 129/2000\n",
      "3/3 [==============================] - 0s 90ms/step - loss: 0.5731 - categorical_accuracy: 0.6302\n",
      "Epoch 130/2000\n",
      "3/3 [==============================] - 0s 84ms/step - loss: 0.5176 - categorical_accuracy: 0.6889\n",
      "Epoch 131/2000\n",
      "3/3 [==============================] - 0s 80ms/step - loss: 0.5200 - categorical_accuracy: 0.7495\n",
      "Epoch 132/2000\n",
      "3/3 [==============================] - 0s 94ms/step - loss: 0.5429 - categorical_accuracy: 0.6967\n",
      "Epoch 133/2000\n",
      "3/3 [==============================] - 0s 88ms/step - loss: 0.4982 - categorical_accuracy: 0.7358\n",
      "Epoch 134/2000\n",
      "3/3 [==============================] - 0s 91ms/step - loss: 0.4370 - categorical_accuracy: 0.7906\n",
      "Epoch 135/2000\n",
      "3/3 [==============================] - 0s 88ms/step - loss: 0.4670 - categorical_accuracy: 0.7085\n",
      "Epoch 136/2000\n",
      "3/3 [==============================] - 0s 115ms/step - loss: 0.4676 - categorical_accuracy: 0.7886\n",
      "Epoch 137/2000\n",
      "3/3 [==============================] - 0s 86ms/step - loss: 0.4815 - categorical_accuracy: 0.6987\n",
      "Epoch 138/2000\n",
      "3/3 [==============================] - 0s 87ms/step - loss: 0.4658 - categorical_accuracy: 0.6713\n",
      "Epoch 139/2000\n",
      "3/3 [==============================] - 0s 88ms/step - loss: 0.4244 - categorical_accuracy: 0.7886\n",
      "Epoch 140/2000\n",
      "3/3 [==============================] - 0s 85ms/step - loss: 0.4264 - categorical_accuracy: 0.7710\n",
      "Epoch 141/2000\n",
      "3/3 [==============================] - 0s 108ms/step - loss: 0.4333 - categorical_accuracy: 0.7222\n",
      "Epoch 142/2000\n",
      "3/3 [==============================] - 0s 77ms/step - loss: 0.4347 - categorical_accuracy: 0.7671\n",
      "Epoch 143/2000\n",
      "3/3 [==============================] - 0s 109ms/step - loss: 0.5463 - categorical_accuracy: 0.7319\n",
      "Epoch 144/2000\n",
      "3/3 [==============================] - 0s 86ms/step - loss: 0.4751 - categorical_accuracy: 0.7143\n",
      "Epoch 145/2000\n",
      "3/3 [==============================] - 0s 71ms/step - loss: 0.4553 - categorical_accuracy: 0.7671\n",
      "Epoch 146/2000\n",
      "3/3 [==============================] - 0s 94ms/step - loss: 0.4727 - categorical_accuracy: 0.7163\n",
      "Epoch 147/2000\n",
      "3/3 [==============================] - 0s 102ms/step - loss: 0.4617 - categorical_accuracy: 0.7593\n",
      "Epoch 148/2000\n",
      "3/3 [==============================] - 0s 93ms/step - loss: 0.4509 - categorical_accuracy: 0.7691\n",
      "Epoch 149/2000\n",
      "3/3 [==============================] - 0s 78ms/step - loss: 0.4353 - categorical_accuracy: 0.7162\n",
      "Epoch 150/2000\n",
      "3/3 [==============================] - 0s 83ms/step - loss: 0.5195 - categorical_accuracy: 0.7827\n",
      "Epoch 151/2000\n",
      "3/3 [==============================] - 0s 111ms/step - loss: 0.6739 - categorical_accuracy: 0.6262\n",
      "Epoch 152/2000\n",
      "3/3 [==============================] - 0s 88ms/step - loss: 0.6361 - categorical_accuracy: 0.6517\n",
      "Epoch 153/2000\n",
      "3/3 [==============================] - 0s 92ms/step - loss: 2.0390 - categorical_accuracy: 0.6868\n",
      "Epoch 154/2000\n",
      "3/3 [==============================] - 0s 94ms/step - loss: 0.8016 - categorical_accuracy: 0.5557\n",
      "Epoch 155/2000\n",
      "3/3 [==============================] - 0s 94ms/step - loss: 0.7269 - categorical_accuracy: 0.5715\n",
      "Epoch 156/2000\n",
      "3/3 [==============================] - 0s 81ms/step - loss: 0.7397 - categorical_accuracy: 0.5694\n",
      "Epoch 157/2000\n",
      "3/3 [==============================] - 0s 99ms/step - loss: 0.6148 - categorical_accuracy: 0.7318\n",
      "Epoch 158/2000\n",
      "3/3 [==============================] - 0s 101ms/step - loss: 0.6403 - categorical_accuracy: 0.6575\n",
      "Epoch 159/2000\n",
      "3/3 [==============================] - 0s 108ms/step - loss: 0.5645 - categorical_accuracy: 0.6791\n",
      "Epoch 160/2000\n",
      "3/3 [==============================] - 0s 93ms/step - loss: 0.5162 - categorical_accuracy: 0.6850\n",
      "Epoch 161/2000\n",
      "3/3 [==============================] - 0s 96ms/step - loss: 0.5522 - categorical_accuracy: 0.6419\n",
      "Epoch 162/2000\n",
      "3/3 [==============================] - 0s 111ms/step - loss: 0.5029 - categorical_accuracy: 0.6810\n",
      "Epoch 163/2000\n",
      "3/3 [==============================] - 0s 89ms/step - loss: 0.5150 - categorical_accuracy: 0.7886\n",
      "Epoch 164/2000\n",
      "3/3 [==============================] - 0s 104ms/step - loss: 0.5235 - categorical_accuracy: 0.6772\n",
      "Epoch 165/2000\n",
      "3/3 [==============================] - 0s 83ms/step - loss: 0.5016 - categorical_accuracy: 0.6889\n",
      "Epoch 166/2000\n",
      "3/3 [==============================] - 0s 83ms/step - loss: 0.4699 - categorical_accuracy: 0.7241\n",
      "Epoch 167/2000\n",
      "3/3 [==============================] - 0s 95ms/step - loss: 0.4324 - categorical_accuracy: 0.8102\n",
      "Epoch 168/2000\n",
      "3/3 [==============================] - 0s 90ms/step - loss: 0.4506 - categorical_accuracy: 0.7241\n",
      "Epoch 169/2000\n",
      "3/3 [==============================] - 0s 75ms/step - loss: 0.3987 - categorical_accuracy: 0.8297\n",
      "Epoch 170/2000\n",
      "3/3 [==============================] - 0s 88ms/step - loss: 0.4777 - categorical_accuracy: 0.7632\n",
      "Epoch 171/2000\n",
      "3/3 [==============================] - 0s 107ms/step - loss: 0.4103 - categorical_accuracy: 0.8063\n",
      "Epoch 172/2000\n",
      "3/3 [==============================] - 0s 98ms/step - loss: 0.4501 - categorical_accuracy: 0.7456\n",
      "Epoch 173/2000\n",
      "3/3 [==============================] - 0s 75ms/step - loss: 0.5152 - categorical_accuracy: 0.6497\n",
      "Epoch 174/2000\n",
      "3/3 [==============================] - 0s 72ms/step - loss: 0.4637 - categorical_accuracy: 0.7182\n",
      "Epoch 175/2000\n",
      "3/3 [==============================] - 0s 171ms/step - loss: 0.4652 - categorical_accuracy: 0.7593\n",
      "Epoch 176/2000\n",
      "3/3 [==============================] - 0s 86ms/step - loss: 0.4665 - categorical_accuracy: 0.7416\n",
      "Epoch 177/2000\n",
      "3/3 [==============================] - 0s 82ms/step - loss: 0.4220 - categorical_accuracy: 0.8102\n",
      "Epoch 178/2000\n",
      "3/3 [==============================] - 0s 99ms/step - loss: 0.4667 - categorical_accuracy: 0.7535\n",
      "Epoch 179/2000\n",
      "3/3 [==============================] - 0s 72ms/step - loss: 0.4549 - categorical_accuracy: 0.8102\n",
      "Epoch 180/2000\n",
      "3/3 [==============================] - 0s 93ms/step - loss: 0.3925 - categorical_accuracy: 0.7769\n",
      "Epoch 181/2000\n",
      "3/3 [==============================] - 0s 95ms/step - loss: 0.3812 - categorical_accuracy: 0.7710\n",
      "Epoch 182/2000\n",
      "3/3 [==============================] - 0s 92ms/step - loss: 0.3856 - categorical_accuracy: 0.8317\n",
      "Epoch 183/2000\n",
      "3/3 [==============================] - 0s 89ms/step - loss: 0.3636 - categorical_accuracy: 0.8062\n",
      "Epoch 184/2000\n",
      "3/3 [==============================] - 0s 75ms/step - loss: 0.4041 - categorical_accuracy: 0.7808\n",
      "Epoch 185/2000\n",
      "3/3 [==============================] - 0s 79ms/step - loss: 0.4072 - categorical_accuracy: 0.7867\n",
      "Epoch 186/2000\n",
      "3/3 [==============================] - 0s 87ms/step - loss: 0.3599 - categorical_accuracy: 0.8375\n",
      "Epoch 187/2000\n",
      "3/3 [==============================] - 0s 99ms/step - loss: 0.3220 - categorical_accuracy: 0.8415\n",
      "Epoch 188/2000\n",
      "3/3 [==============================] - 0s 82ms/step - loss: 0.3160 - categorical_accuracy: 0.8336\n",
      "Epoch 189/2000\n",
      "3/3 [==============================] - 0s 125ms/step - loss: 0.3069 - categorical_accuracy: 0.8670\n",
      "Epoch 190/2000\n",
      "3/3 [==============================] - 0s 99ms/step - loss: 0.4249 - categorical_accuracy: 0.7592\n",
      "Epoch 191/2000\n",
      "3/3 [==============================] - 0s 81ms/step - loss: 0.3498 - categorical_accuracy: 0.8141\n",
      "Epoch 192/2000\n",
      "3/3 [==============================] - 0s 77ms/step - loss: 0.2753 - categorical_accuracy: 0.9021\n",
      "Epoch 193/2000\n",
      "3/3 [==============================] - 0s 86ms/step - loss: 0.3410 - categorical_accuracy: 0.8748\n",
      "Epoch 194/2000\n",
      "3/3 [==============================] - 0s 75ms/step - loss: 0.3331 - categorical_accuracy: 0.8709\n",
      "Epoch 195/2000\n",
      "3/3 [==============================] - 0s 78ms/step - loss: 0.2889 - categorical_accuracy: 0.8943\n",
      "Epoch 196/2000\n",
      "3/3 [==============================] - 0s 77ms/step - loss: 0.2721 - categorical_accuracy: 0.8767\n",
      "Epoch 197/2000\n",
      "3/3 [==============================] - 0s 100ms/step - loss: 0.3085 - categorical_accuracy: 0.8689\n",
      "Epoch 198/2000\n",
      "3/3 [==============================] - 0s 96ms/step - loss: 0.3095 - categorical_accuracy: 0.8493\n",
      "Epoch 199/2000\n",
      "3/3 [==============================] - 0s 78ms/step - loss: 0.3046 - categorical_accuracy: 0.8512\n",
      "Epoch 200/2000\n",
      "3/3 [==============================] - 1s 150ms/step - loss: 0.3138 - categorical_accuracy: 0.8552\n",
      "Epoch 201/2000\n",
      "3/3 [==============================] - 0s 89ms/step - loss: 0.4452 - categorical_accuracy: 0.7828\n",
      "Epoch 202/2000\n",
      "3/3 [==============================] - 0s 88ms/step - loss: 0.3680 - categorical_accuracy: 0.8141\n",
      "Epoch 203/2000\n",
      "3/3 [==============================] - 0s 94ms/step - loss: 0.3895 - categorical_accuracy: 0.7672\n",
      "Epoch 204/2000\n",
      "2/3 [===================>..........] - ETA: 0s - loss: 0.3475 - categorical_accuracy: 0.8594"
     ]
    },
    {
     "ename": "KeyboardInterrupt",
     "evalue": "",
     "output_type": "error",
     "traceback": [
      "\u001b[0;31m---------------------------------------------------------------------------\u001b[0m",
      "\u001b[0;31mKeyboardInterrupt\u001b[0m                         Traceback (most recent call last)",
      "Cell \u001b[0;32mIn[61], line 1\u001b[0m\n\u001b[0;32m----> 1\u001b[0m \u001b[43mmodel\u001b[49m\u001b[38;5;241;43m.\u001b[39;49m\u001b[43mfit\u001b[49m\u001b[43m(\u001b[49m\u001b[43mX_train\u001b[49m\u001b[43m,\u001b[49m\u001b[43m \u001b[49m\u001b[43my_train\u001b[49m\u001b[43m,\u001b[49m\u001b[43m \u001b[49m\u001b[43mepochs\u001b[49m\u001b[38;5;241;43m=\u001b[39;49m\u001b[38;5;241;43m2000\u001b[39;49m\u001b[43m,\u001b[49m\u001b[43m \u001b[49m\u001b[43mcallbacks\u001b[49m\u001b[38;5;241;43m=\u001b[39;49m\u001b[43m[\u001b[49m\u001b[43mtb_callback\u001b[49m\u001b[43m]\u001b[49m\u001b[43m)\u001b[49m\n",
      "File \u001b[0;32m~/tensorflow-computervision/env/lib/python3.8/site-packages/tensorflow/python/keras/engine/training.py:1100\u001b[0m, in \u001b[0;36mModel.fit\u001b[0;34m(self, x, y, batch_size, epochs, verbose, callbacks, validation_split, validation_data, shuffle, class_weight, sample_weight, initial_epoch, steps_per_epoch, validation_steps, validation_batch_size, validation_freq, max_queue_size, workers, use_multiprocessing)\u001b[0m\n\u001b[1;32m   1093\u001b[0m \u001b[38;5;28;01mwith\u001b[39;00m trace\u001b[38;5;241m.\u001b[39mTrace(\n\u001b[1;32m   1094\u001b[0m     \u001b[38;5;124m'\u001b[39m\u001b[38;5;124mtrain\u001b[39m\u001b[38;5;124m'\u001b[39m,\n\u001b[1;32m   1095\u001b[0m     epoch_num\u001b[38;5;241m=\u001b[39mepoch,\n\u001b[1;32m   1096\u001b[0m     step_num\u001b[38;5;241m=\u001b[39mstep,\n\u001b[1;32m   1097\u001b[0m     batch_size\u001b[38;5;241m=\u001b[39mbatch_size,\n\u001b[1;32m   1098\u001b[0m     _r\u001b[38;5;241m=\u001b[39m\u001b[38;5;241m1\u001b[39m):\n\u001b[1;32m   1099\u001b[0m   callbacks\u001b[38;5;241m.\u001b[39mon_train_batch_begin(step)\n\u001b[0;32m-> 1100\u001b[0m   tmp_logs \u001b[38;5;241m=\u001b[39m \u001b[38;5;28;43mself\u001b[39;49m\u001b[38;5;241;43m.\u001b[39;49m\u001b[43mtrain_function\u001b[49m\u001b[43m(\u001b[49m\u001b[43miterator\u001b[49m\u001b[43m)\u001b[49m\n\u001b[1;32m   1101\u001b[0m   \u001b[38;5;28;01mif\u001b[39;00m data_handler\u001b[38;5;241m.\u001b[39mshould_sync:\n\u001b[1;32m   1102\u001b[0m     context\u001b[38;5;241m.\u001b[39masync_wait()\n",
      "File \u001b[0;32m~/tensorflow-computervision/env/lib/python3.8/site-packages/tensorflow/python/eager/def_function.py:828\u001b[0m, in \u001b[0;36mFunction.__call__\u001b[0;34m(self, *args, **kwds)\u001b[0m\n\u001b[1;32m    826\u001b[0m tracing_count \u001b[38;5;241m=\u001b[39m \u001b[38;5;28mself\u001b[39m\u001b[38;5;241m.\u001b[39mexperimental_get_tracing_count()\n\u001b[1;32m    827\u001b[0m \u001b[38;5;28;01mwith\u001b[39;00m trace\u001b[38;5;241m.\u001b[39mTrace(\u001b[38;5;28mself\u001b[39m\u001b[38;5;241m.\u001b[39m_name) \u001b[38;5;28;01mas\u001b[39;00m tm:\n\u001b[0;32m--> 828\u001b[0m   result \u001b[38;5;241m=\u001b[39m \u001b[38;5;28;43mself\u001b[39;49m\u001b[38;5;241;43m.\u001b[39;49m\u001b[43m_call\u001b[49m\u001b[43m(\u001b[49m\u001b[38;5;241;43m*\u001b[39;49m\u001b[43margs\u001b[49m\u001b[43m,\u001b[49m\u001b[43m \u001b[49m\u001b[38;5;241;43m*\u001b[39;49m\u001b[38;5;241;43m*\u001b[39;49m\u001b[43mkwds\u001b[49m\u001b[43m)\u001b[49m\n\u001b[1;32m    829\u001b[0m   compiler \u001b[38;5;241m=\u001b[39m \u001b[38;5;124m\"\u001b[39m\u001b[38;5;124mxla\u001b[39m\u001b[38;5;124m\"\u001b[39m \u001b[38;5;28;01mif\u001b[39;00m \u001b[38;5;28mself\u001b[39m\u001b[38;5;241m.\u001b[39m_experimental_compile \u001b[38;5;28;01melse\u001b[39;00m \u001b[38;5;124m\"\u001b[39m\u001b[38;5;124mnonXla\u001b[39m\u001b[38;5;124m\"\u001b[39m\n\u001b[1;32m    830\u001b[0m   new_tracing_count \u001b[38;5;241m=\u001b[39m \u001b[38;5;28mself\u001b[39m\u001b[38;5;241m.\u001b[39mexperimental_get_tracing_count()\n",
      "File \u001b[0;32m~/tensorflow-computervision/env/lib/python3.8/site-packages/tensorflow/python/eager/def_function.py:855\u001b[0m, in \u001b[0;36mFunction._call\u001b[0;34m(self, *args, **kwds)\u001b[0m\n\u001b[1;32m    852\u001b[0m   \u001b[38;5;28mself\u001b[39m\u001b[38;5;241m.\u001b[39m_lock\u001b[38;5;241m.\u001b[39mrelease()\n\u001b[1;32m    853\u001b[0m   \u001b[38;5;66;03m# In this case we have created variables on the first call, so we run the\u001b[39;00m\n\u001b[1;32m    854\u001b[0m   \u001b[38;5;66;03m# defunned version which is guaranteed to never create variables.\u001b[39;00m\n\u001b[0;32m--> 855\u001b[0m   \u001b[38;5;28;01mreturn\u001b[39;00m \u001b[38;5;28;43mself\u001b[39;49m\u001b[38;5;241;43m.\u001b[39;49m\u001b[43m_stateless_fn\u001b[49m\u001b[43m(\u001b[49m\u001b[38;5;241;43m*\u001b[39;49m\u001b[43margs\u001b[49m\u001b[43m,\u001b[49m\u001b[43m \u001b[49m\u001b[38;5;241;43m*\u001b[39;49m\u001b[38;5;241;43m*\u001b[39;49m\u001b[43mkwds\u001b[49m\u001b[43m)\u001b[49m  \u001b[38;5;66;03m# pylint: disable=not-callable\u001b[39;00m\n\u001b[1;32m    856\u001b[0m \u001b[38;5;28;01melif\u001b[39;00m \u001b[38;5;28mself\u001b[39m\u001b[38;5;241m.\u001b[39m_stateful_fn \u001b[38;5;129;01mis\u001b[39;00m \u001b[38;5;129;01mnot\u001b[39;00m \u001b[38;5;28;01mNone\u001b[39;00m:\n\u001b[1;32m    857\u001b[0m   \u001b[38;5;66;03m# Release the lock early so that multiple threads can perform the call\u001b[39;00m\n\u001b[1;32m    858\u001b[0m   \u001b[38;5;66;03m# in parallel.\u001b[39;00m\n\u001b[1;32m    859\u001b[0m   \u001b[38;5;28mself\u001b[39m\u001b[38;5;241m.\u001b[39m_lock\u001b[38;5;241m.\u001b[39mrelease()\n",
      "File \u001b[0;32m~/tensorflow-computervision/env/lib/python3.8/site-packages/tensorflow/python/eager/function.py:2942\u001b[0m, in \u001b[0;36mFunction.__call__\u001b[0;34m(self, *args, **kwargs)\u001b[0m\n\u001b[1;32m   2939\u001b[0m \u001b[38;5;28;01mwith\u001b[39;00m \u001b[38;5;28mself\u001b[39m\u001b[38;5;241m.\u001b[39m_lock:\n\u001b[1;32m   2940\u001b[0m   (graph_function,\n\u001b[1;32m   2941\u001b[0m    filtered_flat_args) \u001b[38;5;241m=\u001b[39m \u001b[38;5;28mself\u001b[39m\u001b[38;5;241m.\u001b[39m_maybe_define_function(args, kwargs)\n\u001b[0;32m-> 2942\u001b[0m \u001b[38;5;28;01mreturn\u001b[39;00m \u001b[43mgraph_function\u001b[49m\u001b[38;5;241;43m.\u001b[39;49m\u001b[43m_call_flat\u001b[49m\u001b[43m(\u001b[49m\n\u001b[1;32m   2943\u001b[0m \u001b[43m    \u001b[49m\u001b[43mfiltered_flat_args\u001b[49m\u001b[43m,\u001b[49m\u001b[43m \u001b[49m\u001b[43mcaptured_inputs\u001b[49m\u001b[38;5;241;43m=\u001b[39;49m\u001b[43mgraph_function\u001b[49m\u001b[38;5;241;43m.\u001b[39;49m\u001b[43mcaptured_inputs\u001b[49m\u001b[43m)\u001b[49m\n",
      "File \u001b[0;32m~/tensorflow-computervision/env/lib/python3.8/site-packages/tensorflow/python/eager/function.py:1918\u001b[0m, in \u001b[0;36mConcreteFunction._call_flat\u001b[0;34m(self, args, captured_inputs, cancellation_manager)\u001b[0m\n\u001b[1;32m   1914\u001b[0m possible_gradient_type \u001b[38;5;241m=\u001b[39m gradients_util\u001b[38;5;241m.\u001b[39mPossibleTapeGradientTypes(args)\n\u001b[1;32m   1915\u001b[0m \u001b[38;5;28;01mif\u001b[39;00m (possible_gradient_type \u001b[38;5;241m==\u001b[39m gradients_util\u001b[38;5;241m.\u001b[39mPOSSIBLE_GRADIENT_TYPES_NONE\n\u001b[1;32m   1916\u001b[0m     \u001b[38;5;129;01mand\u001b[39;00m executing_eagerly):\n\u001b[1;32m   1917\u001b[0m   \u001b[38;5;66;03m# No tape is watching; skip to running the function.\u001b[39;00m\n\u001b[0;32m-> 1918\u001b[0m   \u001b[38;5;28;01mreturn\u001b[39;00m \u001b[38;5;28mself\u001b[39m\u001b[38;5;241m.\u001b[39m_build_call_outputs(\u001b[38;5;28;43mself\u001b[39;49m\u001b[38;5;241;43m.\u001b[39;49m\u001b[43m_inference_function\u001b[49m\u001b[38;5;241;43m.\u001b[39;49m\u001b[43mcall\u001b[49m\u001b[43m(\u001b[49m\n\u001b[1;32m   1919\u001b[0m \u001b[43m      \u001b[49m\u001b[43mctx\u001b[49m\u001b[43m,\u001b[49m\u001b[43m \u001b[49m\u001b[43margs\u001b[49m\u001b[43m,\u001b[49m\u001b[43m \u001b[49m\u001b[43mcancellation_manager\u001b[49m\u001b[38;5;241;43m=\u001b[39;49m\u001b[43mcancellation_manager\u001b[49m\u001b[43m)\u001b[49m)\n\u001b[1;32m   1920\u001b[0m forward_backward \u001b[38;5;241m=\u001b[39m \u001b[38;5;28mself\u001b[39m\u001b[38;5;241m.\u001b[39m_select_forward_and_backward_functions(\n\u001b[1;32m   1921\u001b[0m     args,\n\u001b[1;32m   1922\u001b[0m     possible_gradient_type,\n\u001b[1;32m   1923\u001b[0m     executing_eagerly)\n\u001b[1;32m   1924\u001b[0m forward_function, args_with_tangents \u001b[38;5;241m=\u001b[39m forward_backward\u001b[38;5;241m.\u001b[39mforward()\n",
      "File \u001b[0;32m~/tensorflow-computervision/env/lib/python3.8/site-packages/tensorflow/python/eager/function.py:555\u001b[0m, in \u001b[0;36m_EagerDefinedFunction.call\u001b[0;34m(self, ctx, args, cancellation_manager)\u001b[0m\n\u001b[1;32m    553\u001b[0m \u001b[38;5;28;01mwith\u001b[39;00m _InterpolateFunctionError(\u001b[38;5;28mself\u001b[39m):\n\u001b[1;32m    554\u001b[0m   \u001b[38;5;28;01mif\u001b[39;00m cancellation_manager \u001b[38;5;129;01mis\u001b[39;00m \u001b[38;5;28;01mNone\u001b[39;00m:\n\u001b[0;32m--> 555\u001b[0m     outputs \u001b[38;5;241m=\u001b[39m \u001b[43mexecute\u001b[49m\u001b[38;5;241;43m.\u001b[39;49m\u001b[43mexecute\u001b[49m\u001b[43m(\u001b[49m\n\u001b[1;32m    556\u001b[0m \u001b[43m        \u001b[49m\u001b[38;5;28;43mstr\u001b[39;49m\u001b[43m(\u001b[49m\u001b[38;5;28;43mself\u001b[39;49m\u001b[38;5;241;43m.\u001b[39;49m\u001b[43msignature\u001b[49m\u001b[38;5;241;43m.\u001b[39;49m\u001b[43mname\u001b[49m\u001b[43m)\u001b[49m\u001b[43m,\u001b[49m\n\u001b[1;32m    557\u001b[0m \u001b[43m        \u001b[49m\u001b[43mnum_outputs\u001b[49m\u001b[38;5;241;43m=\u001b[39;49m\u001b[38;5;28;43mself\u001b[39;49m\u001b[38;5;241;43m.\u001b[39;49m\u001b[43m_num_outputs\u001b[49m\u001b[43m,\u001b[49m\n\u001b[1;32m    558\u001b[0m \u001b[43m        \u001b[49m\u001b[43minputs\u001b[49m\u001b[38;5;241;43m=\u001b[39;49m\u001b[43margs\u001b[49m\u001b[43m,\u001b[49m\n\u001b[1;32m    559\u001b[0m \u001b[43m        \u001b[49m\u001b[43mattrs\u001b[49m\u001b[38;5;241;43m=\u001b[39;49m\u001b[43mattrs\u001b[49m\u001b[43m,\u001b[49m\n\u001b[1;32m    560\u001b[0m \u001b[43m        \u001b[49m\u001b[43mctx\u001b[49m\u001b[38;5;241;43m=\u001b[39;49m\u001b[43mctx\u001b[49m\u001b[43m)\u001b[49m\n\u001b[1;32m    561\u001b[0m   \u001b[38;5;28;01melse\u001b[39;00m:\n\u001b[1;32m    562\u001b[0m     outputs \u001b[38;5;241m=\u001b[39m execute\u001b[38;5;241m.\u001b[39mexecute_with_cancellation(\n\u001b[1;32m    563\u001b[0m         \u001b[38;5;28mstr\u001b[39m(\u001b[38;5;28mself\u001b[39m\u001b[38;5;241m.\u001b[39msignature\u001b[38;5;241m.\u001b[39mname),\n\u001b[1;32m    564\u001b[0m         num_outputs\u001b[38;5;241m=\u001b[39m\u001b[38;5;28mself\u001b[39m\u001b[38;5;241m.\u001b[39m_num_outputs,\n\u001b[0;32m   (...)\u001b[0m\n\u001b[1;32m    567\u001b[0m         ctx\u001b[38;5;241m=\u001b[39mctx,\n\u001b[1;32m    568\u001b[0m         cancellation_manager\u001b[38;5;241m=\u001b[39mcancellation_manager)\n",
      "File \u001b[0;32m~/tensorflow-computervision/env/lib/python3.8/site-packages/tensorflow/python/eager/execute.py:59\u001b[0m, in \u001b[0;36mquick_execute\u001b[0;34m(op_name, num_outputs, inputs, attrs, ctx, name)\u001b[0m\n\u001b[1;32m     57\u001b[0m \u001b[38;5;28;01mtry\u001b[39;00m:\n\u001b[1;32m     58\u001b[0m   ctx\u001b[38;5;241m.\u001b[39mensure_initialized()\n\u001b[0;32m---> 59\u001b[0m   tensors \u001b[38;5;241m=\u001b[39m \u001b[43mpywrap_tfe\u001b[49m\u001b[38;5;241;43m.\u001b[39;49m\u001b[43mTFE_Py_Execute\u001b[49m\u001b[43m(\u001b[49m\u001b[43mctx\u001b[49m\u001b[38;5;241;43m.\u001b[39;49m\u001b[43m_handle\u001b[49m\u001b[43m,\u001b[49m\u001b[43m \u001b[49m\u001b[43mdevice_name\u001b[49m\u001b[43m,\u001b[49m\u001b[43m \u001b[49m\u001b[43mop_name\u001b[49m\u001b[43m,\u001b[49m\n\u001b[1;32m     60\u001b[0m \u001b[43m                                      \u001b[49m\u001b[43minputs\u001b[49m\u001b[43m,\u001b[49m\u001b[43m \u001b[49m\u001b[43mattrs\u001b[49m\u001b[43m,\u001b[49m\u001b[43m \u001b[49m\u001b[43mnum_outputs\u001b[49m\u001b[43m)\u001b[49m\n\u001b[1;32m     61\u001b[0m \u001b[38;5;28;01mexcept\u001b[39;00m core\u001b[38;5;241m.\u001b[39m_NotOkStatusException \u001b[38;5;28;01mas\u001b[39;00m e:\n\u001b[1;32m     62\u001b[0m   \u001b[38;5;28;01mif\u001b[39;00m name \u001b[38;5;129;01mis\u001b[39;00m \u001b[38;5;129;01mnot\u001b[39;00m \u001b[38;5;28;01mNone\u001b[39;00m:\n",
      "\u001b[0;31mKeyboardInterrupt\u001b[0m: "
     ]
    }
   ],
   "source": [
    "model.fit(X_train, y_train, epochs=2000, callbacks=[tb_callback])"
   ]
  },
  {
   "cell_type": "code",
   "execution_count": 62,
   "id": "79622be0-09a6-4898-8221-10614417744f",
   "metadata": {},
   "outputs": [
    {
     "name": "stdout",
     "output_type": "stream",
     "text": [
      "Model: \"sequential_1\"\n",
      "_________________________________________________________________\n",
      "Layer (type)                 Output Shape              Param #   \n",
      "=================================================================\n",
      "lstm_3 (LSTM)                (None, 30, 64)            442112    \n",
      "_________________________________________________________________\n",
      "lstm_4 (LSTM)                (None, 30, 128)           98816     \n",
      "_________________________________________________________________\n",
      "lstm_5 (LSTM)                (None, 64)                49408     \n",
      "_________________________________________________________________\n",
      "dense_3 (Dense)              (None, 64)                4160      \n",
      "_________________________________________________________________\n",
      "dense_4 (Dense)              (None, 32)                2080      \n",
      "_________________________________________________________________\n",
      "dense_5 (Dense)              (None, 3)                 99        \n",
      "=================================================================\n",
      "Total params: 596,675\n",
      "Trainable params: 596,675\n",
      "Non-trainable params: 0\n",
      "_________________________________________________________________\n"
     ]
    }
   ],
   "source": [
    "model.summary()"
   ]
  },
  {
   "cell_type": "code",
   "execution_count": 74,
   "id": "0f547945-dffe-4db4-9a11-3b9ac425bcdb",
   "metadata": {},
   "outputs": [],
   "source": [
    "# 14. Model Evaluation / Testing"
   ]
  },
  {
   "cell_type": "code",
   "execution_count": 63,
   "id": "81d5d3d0-60f2-412f-8cee-4826e794ef0c",
   "metadata": {},
   "outputs": [],
   "source": [
    "res = model.predict(X_test)"
   ]
  },
  {
   "cell_type": "code",
   "execution_count": 64,
   "id": "f3e37b6b-1ede-49fe-8ed3-bcece64f6ec4",
   "metadata": {},
   "outputs": [
    {
     "data": {
      "text/plain": [
       "'bura'"
      ]
     },
     "execution_count": 64,
     "metadata": {},
     "output_type": "execute_result"
    }
   ],
   "source": [
    "actions[np.argmax(res[4])]"
   ]
  },
  {
   "cell_type": "code",
   "execution_count": 65,
   "id": "2c78781d-f342-4943-ab5a-bb4a36aaeb2e",
   "metadata": {},
   "outputs": [
    {
     "data": {
      "text/plain": [
       "'bura'"
      ]
     },
     "execution_count": 65,
     "metadata": {},
     "output_type": "execute_result"
    }
   ],
   "source": [
    "actions[np.argmax(y_test[4])]"
   ]
  },
  {
   "cell_type": "code",
   "execution_count": 57,
   "id": "0cf304ad-b5c3-4823-8086-898cc3cded47",
   "metadata": {},
   "outputs": [],
   "source": [
    "# 15. Model Saving"
   ]
  },
  {
   "cell_type": "code",
   "execution_count": 66,
   "id": "55b4120d-2d59-4060-90ab-be13b3add2e2",
   "metadata": {},
   "outputs": [],
   "source": [
    "model.save('urdu_sign_lstm_model.h5')"
   ]
  },
  {
   "cell_type": "code",
   "execution_count": 73,
   "id": "353b9a6e-178d-475e-b203-80edf02bd9c3",
   "metadata": {},
   "outputs": [],
   "source": [
    "# 16. Model Evaluation"
   ]
  },
  {
   "cell_type": "code",
   "execution_count": 67,
   "id": "ef84e097-26af-429c-a433-f636107e27e9",
   "metadata": {},
   "outputs": [],
   "source": [
    "from sklearn.metrics import multilabel_confusion_matrix, accuracy_score"
   ]
  },
  {
   "cell_type": "code",
   "execution_count": 68,
   "id": "87d1a216-60ed-4549-bf2c-72f47b3bdfbf",
   "metadata": {},
   "outputs": [],
   "source": [
    "yhat = model.predict(X_test)"
   ]
  },
  {
   "cell_type": "code",
   "execution_count": 69,
   "id": "c056dc76-7cc0-4bda-bfb0-7ded9f5b2435",
   "metadata": {},
   "outputs": [],
   "source": [
    "ytrue = np.argmax(y_test, axis=1).tolist()\n",
    "yhat = np.argmax(yhat, axis=1).tolist()"
   ]
  },
  {
   "cell_type": "code",
   "execution_count": 70,
   "id": "57d17342-8610-4a26-861f-b3280e9d84c0",
   "metadata": {},
   "outputs": [
    {
     "data": {
      "text/plain": [
       "array([[[3, 0],\n",
       "        [0, 2]],\n",
       "\n",
       "       [[3, 0],\n",
       "        [0, 2]],\n",
       "\n",
       "       [[4, 0],\n",
       "        [0, 1]]])"
      ]
     },
     "execution_count": 70,
     "metadata": {},
     "output_type": "execute_result"
    }
   ],
   "source": [
    "multilabel_confusion_matrix(ytrue, yhat)"
   ]
  },
  {
   "cell_type": "code",
   "execution_count": 71,
   "id": "a7889574-01ce-4802-be9c-dfe6c9e377d8",
   "metadata": {},
   "outputs": [
    {
     "data": {
      "text/plain": [
       "1.0"
      ]
     },
     "execution_count": 71,
     "metadata": {},
     "output_type": "execute_result"
    }
   ],
   "source": [
    "accuracy_score(ytrue, yhat)"
   ]
  },
  {
   "cell_type": "code",
   "execution_count": 75,
   "id": "0c3a048a-8e48-4e7a-976b-b3b0cd7ffd97",
   "metadata": {},
   "outputs": [],
   "source": [
    "colors = [(245,117,16), (117,245,16), (16,117,245)]\n",
    "def prob_viz(res, actions, input_frame, colors):\n",
    "    output_frame = input_frame.copy()\n",
    "    for num, prob in enumerate(res):\n",
    "        cv2.rectangle(output_frame, (0,60+num*40), (int(prob*100), 90+num*40), colors[num], -1)\n",
    "        cv2.putText(output_frame, actions[num], (0, 85+num*40), cv2.FONT_HERSHEY_SIMPLEX, 1, (255,255,255), 2, cv2.LINE_AA)\n",
    "        \n",
    "    return output_frame"
   ]
  },
  {
   "cell_type": "code",
   "execution_count": 76,
   "id": "7dc17451-06c3-4746-96a9-8054f86c7e24",
   "metadata": {},
   "outputs": [
    {
     "ename": "NameError",
     "evalue": "name 'image' is not defined",
     "output_type": "error",
     "traceback": [
      "\u001b[0;31m---------------------------------------------------------------------------\u001b[0m",
      "\u001b[0;31mNameError\u001b[0m                                 Traceback (most recent call last)",
      "Cell \u001b[0;32mIn[76], line 2\u001b[0m\n\u001b[1;32m      1\u001b[0m plt\u001b[38;5;241m.\u001b[39mfigure(figsize\u001b[38;5;241m=\u001b[39m(\u001b[38;5;241m18\u001b[39m,\u001b[38;5;241m18\u001b[39m))\n\u001b[0;32m----> 2\u001b[0m plt\u001b[38;5;241m.\u001b[39mimshow(prob_viz(res, actions, \u001b[43mimage\u001b[49m, colors))\n",
      "\u001b[0;31mNameError\u001b[0m: name 'image' is not defined"
     ]
    },
    {
     "data": {
      "text/plain": [
       "<Figure size 1800x1800 with 0 Axes>"
      ]
     },
     "metadata": {},
     "output_type": "display_data"
    }
   ],
   "source": [
    "plt.figure(figsize=(18,18))\n",
    "plt.imshow(prob_viz(res, actions, image, colors))"
   ]
  },
  {
   "cell_type": "code",
   "execution_count": 77,
   "id": "738b4cc8-fb82-43a6-b8df-6b8f4d7c8264",
   "metadata": {},
   "outputs": [],
   "source": [
    "# 17. Real Time Model Testing"
   ]
  },
  {
   "cell_type": "code",
   "execution_count": 25,
   "id": "8899c64c-3df7-4703-b660-c3c463e1d583",
   "metadata": {},
   "outputs": [
    {
     "name": "stderr",
     "output_type": "stream",
     "text": [
      "INFO: Created TensorFlow Lite XNNPACK delegate for CPU.\n"
     ]
    },
    {
     "name": "stdout",
     "output_type": "stream",
     "text": [
      "<class 'mediapipe.python.solution_base.SolutionOutputs'>\n",
      "<class 'mediapipe.python.solution_base.SolutionOutputs'>\n",
      "<class 'mediapipe.python.solution_base.SolutionOutputs'>\n",
      "<class 'mediapipe.python.solution_base.SolutionOutputs'>\n",
      "<class 'mediapipe.python.solution_base.SolutionOutputs'>\n",
      "<class 'mediapipe.python.solution_base.SolutionOutputs'>\n",
      "<class 'mediapipe.python.solution_base.SolutionOutputs'>\n",
      "<class 'mediapipe.python.solution_base.SolutionOutputs'>\n",
      "<class 'mediapipe.python.solution_base.SolutionOutputs'>\n",
      "<class 'mediapipe.python.solution_base.SolutionOutputs'>\n",
      "<class 'mediapipe.python.solution_base.SolutionOutputs'>\n",
      "<class 'mediapipe.python.solution_base.SolutionOutputs'>\n",
      "<class 'mediapipe.python.solution_base.SolutionOutputs'>\n",
      "<class 'mediapipe.python.solution_base.SolutionOutputs'>\n",
      "<class 'mediapipe.python.solution_base.SolutionOutputs'>\n",
      "<class 'mediapipe.python.solution_base.SolutionOutputs'>\n",
      "<class 'mediapipe.python.solution_base.SolutionOutputs'>\n",
      "<class 'mediapipe.python.solution_base.SolutionOutputs'>\n",
      "<class 'mediapipe.python.solution_base.SolutionOutputs'>\n",
      "<class 'mediapipe.python.solution_base.SolutionOutputs'>\n",
      "<class 'mediapipe.python.solution_base.SolutionOutputs'>\n",
      "<class 'mediapipe.python.solution_base.SolutionOutputs'>\n",
      "<class 'mediapipe.python.solution_base.SolutionOutputs'>\n",
      "<class 'mediapipe.python.solution_base.SolutionOutputs'>\n",
      "<class 'mediapipe.python.solution_base.SolutionOutputs'>\n",
      "<class 'mediapipe.python.solution_base.SolutionOutputs'>\n",
      "<class 'mediapipe.python.solution_base.SolutionOutputs'>\n",
      "<class 'mediapipe.python.solution_base.SolutionOutputs'>\n",
      "<class 'mediapipe.python.solution_base.SolutionOutputs'>\n",
      "<class 'mediapipe.python.solution_base.SolutionOutputs'>\n"
     ]
    },
    {
     "name": "stderr",
     "output_type": "stream",
     "text": [
      "2024-01-24 13:01:13.064755: I tensorflow/compiler/mlir/mlir_graph_optimization_pass.cc:116] None of the MLIR optimization passes are enabled (registered 2)\n"
     ]
    },
    {
     "name": "stdout",
     "output_type": "stream",
     "text": [
      "alvidah\n"
     ]
    },
    {
     "ename": "NameError",
     "evalue": "name 'prob_viz' is not defined",
     "output_type": "error",
     "traceback": [
      "\u001b[0;31m---------------------------------------------------------------------------\u001b[0m",
      "\u001b[0;31mNameError\u001b[0m                                 Traceback (most recent call last)",
      "Cell \u001b[0;32mIn[25], line 45\u001b[0m\n\u001b[1;32m     42\u001b[0m         sentence \u001b[38;5;241m=\u001b[39m sentence[\u001b[38;5;241m-\u001b[39m\u001b[38;5;241m5\u001b[39m:]\n\u001b[1;32m     44\u001b[0m     \u001b[38;5;66;03m# Viz probabilities\u001b[39;00m\n\u001b[0;32m---> 45\u001b[0m     image \u001b[38;5;241m=\u001b[39m \u001b[43mprob_viz\u001b[49m(res, actions, image, colors)\n\u001b[1;32m     47\u001b[0m cv2\u001b[38;5;241m.\u001b[39mrectangle(image, (\u001b[38;5;241m0\u001b[39m,\u001b[38;5;241m0\u001b[39m), (\u001b[38;5;241m640\u001b[39m, \u001b[38;5;241m40\u001b[39m), (\u001b[38;5;241m245\u001b[39m, \u001b[38;5;241m117\u001b[39m, \u001b[38;5;241m16\u001b[39m), \u001b[38;5;241m-\u001b[39m\u001b[38;5;241m1\u001b[39m)\n\u001b[1;32m     48\u001b[0m cv2\u001b[38;5;241m.\u001b[39mputText(image, \u001b[38;5;124m'\u001b[39m\u001b[38;5;124m \u001b[39m\u001b[38;5;124m'\u001b[39m\u001b[38;5;241m.\u001b[39mjoin(sentence), (\u001b[38;5;241m3\u001b[39m,\u001b[38;5;241m30\u001b[39m), \n\u001b[1;32m     49\u001b[0m                cv2\u001b[38;5;241m.\u001b[39mFONT_HERSHEY_SIMPLEX, \u001b[38;5;241m1\u001b[39m, (\u001b[38;5;241m255\u001b[39m, \u001b[38;5;241m255\u001b[39m, \u001b[38;5;241m255\u001b[39m), \u001b[38;5;241m2\u001b[39m, cv2\u001b[38;5;241m.\u001b[39mLINE_AA)\n",
      "\u001b[0;31mNameError\u001b[0m: name 'prob_viz' is not defined"
     ]
    }
   ],
   "source": [
    "# 1. New detection variables\n",
    "sequence = []\n",
    "sentence = []\n",
    "threshold = 0.8\n",
    "\n",
    "cap = cv2.VideoCapture(0)\n",
    "# Set mediapipe model \n",
    "with mp_holistic.Holistic(min_detection_confidence=0.5, min_tracking_confidence=0.5) as holistic:\n",
    "    while cap.isOpened():\n",
    "\n",
    "        # Read feed\n",
    "        ret, frame = cap.read()\n",
    "\n",
    "        # Make detections\n",
    "        image, results = mediapipe_detection(frame, holistic)\n",
    "        print(results)\n",
    "        \n",
    "        # Draw landmarks\n",
    "        draw_styled_landmarks(image, results)\n",
    "        \n",
    "        # 2. Prediction logic\n",
    "        keypoints = extract_keypoints(results)\n",
    "#         sequence.insert(0,keypoints)\n",
    "#         sequence = sequence[:30]\n",
    "        sequence.append(keypoints)\n",
    "        sequence = sequence[-30:]\n",
    "        \n",
    "        if len(sequence) == 30:\n",
    "            res = model.predict(np.expand_dims(sequence, axis=0))[0]\n",
    "            print(actions[np.argmax(res)])\n",
    "            \n",
    "            \n",
    "        #3. Viz logic\n",
    "            if res[np.argmax(res)] > threshold: \n",
    "                if len(sentence) > 0: \n",
    "                    if actions[np.argmax(res)] != sentence[-1]:\n",
    "                        sentence.append(actions[np.argmax(res)])\n",
    "                else:\n",
    "                    sentence.append(actions[np.argmax(res)])\n",
    "\n",
    "            if len(sentence) > 5: \n",
    "                sentence = sentence[-5:]\n",
    "\n",
    "            # Viz probabilities\n",
    "            image = prob_viz(res, actions, image, colors)\n",
    "            \n",
    "        cv2.rectangle(image, (0,0), (640, 40), (245, 117, 16), -1)\n",
    "        cv2.putText(image, ' '.join(sentence), (3,30), \n",
    "                       cv2.FONT_HERSHEY_SIMPLEX, 1, (255, 255, 255), 2, cv2.LINE_AA)\n",
    "        \n",
    "        # Show to screen\n",
    "        cv2.imshow('OpenCV Feed', image)\n",
    "\n",
    "        # Break gracefully\n",
    "        if cv2.waitKey(10) & 0xFF == ord('q'):\n",
    "            break\n",
    "    cap.release()\n",
    "    cv2.destroyAllWindows()"
   ]
  },
  {
   "cell_type": "code",
   "execution_count": 78,
   "id": "a98226ff-e9cf-41ac-b550-02087a318640",
   "metadata": {},
   "outputs": [],
   "source": [
    "# EXTRA"
   ]
  },
  {
   "cell_type": "code",
   "execution_count": null,
   "id": "b9e0817b-8922-43da-98b1-3d8bb19e725b",
   "metadata": {},
   "outputs": [],
   "source": [
    "res[np.argmax(res)] > threshold"
   ]
  },
  {
   "cell_type": "code",
   "execution_count": null,
   "id": "8d21812a-c23b-420f-b299-ba90dcbde2b5",
   "metadata": {},
   "outputs": [],
   "source": [
    "model.predict(np.expand_dims(X_test[0], axis=0))"
   ]
  }
 ],
 "metadata": {
  "kernelspec": {
   "display_name": "mykernel",
   "language": "python",
   "name": "mykernel"
  },
  "language_info": {
   "codemirror_mode": {
    "name": "ipython",
    "version": 3
   },
   "file_extension": ".py",
   "mimetype": "text/x-python",
   "name": "python",
   "nbconvert_exporter": "python",
   "pygments_lexer": "ipython3",
   "version": "3.8.18"
  }
 },
 "nbformat": 4,
 "nbformat_minor": 5
}
